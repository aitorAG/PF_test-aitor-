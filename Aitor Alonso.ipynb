{
 "cells": [
  {
   "cell_type": "code",
   "execution_count": 11,
   "metadata": {},
   "outputs": [],
   "source": [
    "import pandas as pd\n",
    "import holidayapi\n",
    "import calendarific\n",
    "import datetime\n",
    "from matplotlib import pyplot as plt\n",
    "from tqdm import tqdm_notebook as tqdm\n",
    "import calendarific\n",
    "import numpy as np\n",
    "from sklearn.metrics import mean_squared_error"
   ]
  },
  {
   "cell_type": "code",
   "execution_count": 12,
   "metadata": {},
   "outputs": [],
   "source": [
    "plt.rcParams['figure.figsize'] = [20, 10]\n",
    "plt.rc('xtick', labelsize=20)     \n",
    "plt.rc('ytick', labelsize=20)"
   ]
  },
  {
   "cell_type": "markdown",
   "metadata": {},
   "source": [
    "# Step 1:\n",
    "* To demonstrate your ability to integrate data from multiple sources, use the\n",
    "API below to add information about national holidays to the dataset\n",
    "* Given the date and country of each transaction, use the API to\n",
    "determine whether it was a national holiday"
   ]
  },
  {
   "cell_type": "markdown",
   "metadata": {},
   "source": [
    "This is a transnational data set which contains all the transactions occurring between 01/12/2010 and 09/12/2011 for a UK-based and registered non-store online retail.The company mainly sells unique all-occasion gifts. Many customers of the company are wholesalers.\n",
    "\n"
   ]
  },
  {
   "cell_type": "code",
   "execution_count": null,
   "metadata": {},
   "outputs": [],
   "source": [
    "file = \"Online Retail.xlsx\"\n",
    "#file = \"https://archive.ics.uci.edu/ml/machine-learning-databases/00352/Online%20Retail.xlsx\"\n",
    "\n",
    "df = pd.read_excel(file,dtype={\"CustomerID\":str}, parse_dates=[\"InvoiceDate\"])"
   ]
  },
  {
   "cell_type": "code",
   "execution_count": null,
   "metadata": {},
   "outputs": [],
   "source": [
    "data = df.copy()"
   ]
  },
  {
   "cell_type": "code",
   "execution_count": null,
   "metadata": {},
   "outputs": [],
   "source": [
    "data[\"InvoiceDate\"] = data[\"InvoiceDate\"].apply(lambda x: x.date())\n",
    "data[\"Holiday\"] = np.nan"
   ]
  },
  {
   "cell_type": "markdown",
   "metadata": {},
   "source": [
    "**InvoiceNo:** Invoice number. Nominal, a 6-digit integral number uniquely assigned to each transaction. If this code starts with letter 'c', it indicates a cancellation.  \n",
    "**StockCode:** Product (item) code. Nominal, a 5-digit integral number uniquely assigned to each distinct product.  \n",
    "**Description:** Product (item) name. Nominal.  \n",
    "**Quantity:** The quantities of each product (item) per transaction. Numeric.  \n",
    "**InvoiceDate:** Invice Date and time. Numeric, the day and time when each transaction was generated.  \n",
    "**UnitPrice:** Unit price. Numeric, Product price per unit in sterling.  \n",
    "**CustomerID:** Customer number. Nominal, a 5-digit integral number uniquely assigned to each customer.  \n",
    "**Country:** Country name. Nominal, the name of the country where each customer resides.  "
   ]
  },
  {
   "cell_type": "markdown",
   "metadata": {},
   "source": [
    "## Superficial check and minor data transformations"
   ]
  },
  {
   "cell_type": "code",
   "execution_count": null,
   "metadata": {},
   "outputs": [],
   "source": [
    "data.sample(10)"
   ]
  },
  {
   "cell_type": "code",
   "execution_count": null,
   "metadata": {},
   "outputs": [],
   "source": [
    "data.describe(include=\"all\")"
   ]
  },
  {
   "cell_type": "code",
   "execution_count": null,
   "metadata": {},
   "outputs": [],
   "source": [
    "data.info()"
   ]
  },
  {
   "cell_type": "code",
   "execution_count": null,
   "metadata": {},
   "outputs": [],
   "source": [
    "data.isnull().sum()"
   ]
  },
  {
   "cell_type": "code",
   "execution_count": null,
   "metadata": {},
   "outputs": [],
   "source": [
    "#distinct countries in an array so a long column is not generated\n",
    "np.array(set(data.Country))"
   ]
  },
  {
   "cell_type": "code",
   "execution_count": null,
   "metadata": {},
   "outputs": [],
   "source": [
    "fig = plt.figure(figsize=(40,10)) \n",
    "fig_dims = (4, 2)\n",
    "\n",
    "plt.subplot2grid(fig_dims, (0, 0))\n",
    "data['Country'].value_counts().plot(kind='bar', \n",
    "                                     title='Country distribution')\n",
    "\n",
    "plt.subplot2grid(fig_dims, (2, 0))\n",
    "data['Country'][data.Country != \"United Kingdom\"].value_counts().plot(kind='bar', \n",
    "                                     title='Country distribution w/o UK')"
   ]
  },
  {
   "cell_type": "markdown",
   "metadata": {},
   "source": [
    "As Unspecified and European Community are to generic to be usefull and represent few cases (0.08% of data), we won't take them into account"
   ]
  },
  {
   "cell_type": "code",
   "execution_count": null,
   "metadata": {
    "scrolled": true
   },
   "outputs": [],
   "source": [
    "{i:len(data[data[\"Country\"]== i]) for i in ['European Community','Unspecified']}\n"
   ]
  },
  {
   "cell_type": "code",
   "execution_count": null,
   "metadata": {},
   "outputs": [],
   "source": [
    "#data = data[((data.Country !='European Community') | (data.Country != \"Unspecified\"))]\n",
    "data = data[(data.Country !='European Community')&(data.Country !='Unspecified')]"
   ]
  },
  {
   "cell_type": "markdown",
   "metadata": {},
   "source": [
    "----"
   ]
  },
  {
   "cell_type": "code",
   "execution_count": null,
   "metadata": {},
   "outputs": [],
   "source": [
    "data.head()"
   ]
  },
  {
   "cell_type": "markdown",
   "metadata": {},
   "source": [
    "## Holidays data from API"
   ]
  },
  {
   "cell_type": "markdown",
   "metadata": {},
   "source": [
    "### 1st aproach"
   ]
  },
  {
   "cell_type": "code",
   "execution_count": null,
   "metadata": {},
   "outputs": [],
   "source": [
    "hapi = holidayapi.v1('d50020d6-e887-4a32-bbe5-ba18f05f6877')\n",
    "\n",
    "parameters = {\n",
    "    # Required\n",
    "    'country': 'US',\n",
    "    'year':    2010,\n",
    "    # Optional\n",
    "    # 'month':    7,\n",
    "    # 'day':      4,\n",
    "    # 'previous': True,\n",
    "    # 'upcoming': True,\n",
    "    # 'public':   True,\n",
    "    # 'pretty':   True,\n",
    "}\n",
    "\n",
    "holidays = hapi.holidays(parameters)"
   ]
  },
  {
   "cell_type": "code",
   "execution_count": null,
   "metadata": {},
   "outputs": [],
   "source": [
    "holidays.head()"
   ]
  },
  {
   "cell_type": "markdown",
   "metadata": {},
   "source": [
    "As this api is limited to 2018, we look for a different api"
   ]
  },
  {
   "cell_type": "markdown",
   "metadata": {},
   "source": [
    "### 2nd aproach"
   ]
  },
  {
   "cell_type": "code",
   "execution_count": null,
   "metadata": {},
   "outputs": [],
   "source": [
    "#Install from github, not from pip. In pip version, *has_key* command is used, which was deprecated for *in* comand\n",
    "\n",
    "#https://calendarific.com/ \n",
    "\n",
    "#!pip install python-calendarific"
   ]
  },
  {
   "cell_type": "code",
   "execution_count": null,
   "metadata": {},
   "outputs": [],
   "source": [
    "import calendarific\n",
    "\n",
    "API_key = '3b7f1ee4d80cebbfb6f9d7cfcef868c1b97ddcdb'\n",
    "calapi = calendarific.v2(API_key)\n",
    "\n",
    "parameters = {'country': 'sg','year':    2011,}"
   ]
  },
  {
   "cell_type": "code",
   "execution_count": null,
   "metadata": {},
   "outputs": [],
   "source": [
    "us_holidays = calapi.holidays(parameters)"
   ]
  },
  {
   "cell_type": "code",
   "execution_count": null,
   "metadata": {},
   "outputs": [],
   "source": [
    "us_holi_dict = pd.DataFrame.from_dict(us_holidays[\"response\"][\"holidays\"])\n",
    "us_holi_dict.head()"
   ]
  },
  {
   "cell_type": "markdown",
   "metadata": {},
   "source": [
    "as we see, we will have to adapt country names to \"ISO 3166-1 alpha-2 code\" to feed the API."
   ]
  },
  {
   "cell_type": "code",
   "execution_count": null,
   "metadata": {},
   "outputs": [],
   "source": [
    "#we do this manually, thus we could extract from API website or Wikipedia through a scrapper\n",
    "\n",
    "Country_ISO_dict = {\n",
    "    'Australia': \"AU\",\n",
    "    'Austria': \"AT\",\n",
    "    'Bahrain':\"BH\",\n",
    "    'Belgium': \"BE\",\n",
    "    'Brazil': \"BR\",\n",
    "    'Canada': \"CA\",\n",
    "    'Cyprus':\"CY\",\n",
    "    'Czech Republic':\"CZ\",\n",
    "    'Channel Islands': \"GB\",\n",
    "    'Denmark': \"DK\",\n",
    "    'EIRE': \"IE\",\n",
    "    'Finland':\"FI\",\n",
    "    'France':\"FR\",\n",
    "    'Germany':\"DE\",\n",
    "    'Greece':\"GR\",\n",
    "    'Hong Kong':\"HK\",\n",
    "    'Iceland':\"IS\",\n",
    "    'Israel':\"IL\",\n",
    "    'Italy':\"IT\",\n",
    "    'Japan':\"JP\",\n",
    "    'Lebanon':\"LB\",\n",
    "    'Lithuania':\"LT\",\n",
    "    'Malta':\"MT\",\n",
    "    'Netherlands':\"NL\",\n",
    "    'Norway':\"NO\",\n",
    "    'Poland':\"PL\",\n",
    "    'Portugal':\"PT\",\n",
    "    'RSA':\"ZA\",\n",
    "    'Saudi Arabia':\"SA\",\n",
    "    'Singapore':\"SG\",\n",
    "    'Spain':\"ES\",\n",
    "    'Sweden':\"SE\",\n",
    "    'Switzerland':\"CH\",\n",
    "    'USA':\"US\",\n",
    "    'United Arab Emirates':\"AE\",\n",
    "    'United Kingdom':\"GB\",\n",
    "}"
   ]
  },
  {
   "cell_type": "markdown",
   "metadata": {},
   "source": [
    "we create a function to extract data from API and preprocess it"
   ]
  },
  {
   "cell_type": "code",
   "execution_count": null,
   "metadata": {},
   "outputs": [],
   "source": [
    "def holidays_API (Country, year, all_holidays = True):\n",
    "    \"\"\"\n",
    "    \n",
    "    Returns a dataset with national holidays listed and aditional info\n",
    "    if holiday set to True, all holidays are taken into account\n",
    "    \n",
    "    \"\"\"\n",
    "    \n",
    "    #as there is no data through the API for Bahrein till 2015, \n",
    "    #we use 2021 for 2010 and 2022 for 2011 as these years have the same day distribution\n",
    "    \n",
    "    if Country == \"BH\":\n",
    "        if year == 2010:\n",
    "            year = 2021\n",
    "            \n",
    "        elif year ==2011:\n",
    "            year = 2022\n",
    "            \n",
    "    \n",
    "    #api parameters\n",
    "    API_key = '3b7f1ee4d80cebbfb6f9d7cfcef868c1b97ddcdb'\n",
    "    calapi = calendarific.v2(API_key)\n",
    "    parameters = {'country': Country,'year':year,}\n",
    "    \n",
    "    holidays = pd.DataFrame.from_dict(calapi.holidays(parameters)[\"response\"][\"holidays\"])\n",
    "    \n",
    "    #dataset prep\n",
    "    holidays[\"Holiday\"] = True\n",
    "    holidays[\"date\"] = holidays[\"date\"].apply(lambda x: x[\"iso\"])\n",
    "    \n",
    "    if all_holidays == True:\n",
    "        pass\n",
    "    else:\n",
    "        holidays[\"types\"] = holidays[\"type\"].apply(lambda x: \"\".join(x))\n",
    "        holidays = holidays[holidays[\"types\"] == \"National holiday\"]\n",
    "    \n",
    "    \n",
    "    #as some values come back as a 2011-12-22T00:30:02-05:00, we trim it\n",
    "    holidays[\"date\"] = holidays[\"date\"].apply(lambda x: datetime.datetime.strptime(x, \"%Y-%m-%d\").date() if len(x)==10 \n",
    "                                              else datetime.datetime.strptime(x[:10], \"%Y-%m-%d\").date())\n",
    "    \n",
    "    return holidays[[\"date\",\"Holiday\" ]]"
   ]
  },
  {
   "cell_type": "markdown",
   "metadata": {},
   "source": [
    "this fuction will evaluate holidays for every date and country in a given dataset"
   ]
  },
  {
   "cell_type": "code",
   "execution_count": null,
   "metadata": {},
   "outputs": [],
   "source": [
    "def validate_holidays(data, all_holidays = False):\n",
    "    \"\"\"\n",
    "    For a given dataset (in this exercise), it returs true or false in a new column whether that date was national holiday or not.\n",
    "    \n",
    "    Parameters:\n",
    "    \n",
    "        data: Dataset with a Country field\n",
    "        all_holidays:False by default. If true, all holiday types are taken into account\n",
    "        \n",
    "    \"\"\"\n",
    "    print(all_holidays)\n",
    "    for year in (2010,2011):\n",
    "        print(year)\n",
    "        for i in tqdm(set(data.Country)):\n",
    "            data.loc[data[\"Country\"] == i, \"Holiday\"] = data.InvoiceDate.isin(holidays_API(Country_ISO_dict[i],year, all_holidays).date)\n",
    "    \n",
    "    return data"
   ]
  },
  {
   "cell_type": "markdown",
   "metadata": {},
   "source": [
    "As many holidays are not national but could affect purchasing behaviours, we create two dataset to be used and compared in the next exercise"
   ]
  },
  {
   "cell_type": "code",
   "execution_count": null,
   "metadata": {},
   "outputs": [],
   "source": [
    "#all holiday type\n",
    "sales_allH = validate_holidays(data.copy(), all_holidays = True)\n",
    "\n",
    "#only national holidays\n",
    "sales_NH = validate_holidays(data.copy(), all_holidays = False)"
   ]
  },
  {
   "cell_type": "code",
   "execution_count": null,
   "metadata": {},
   "outputs": [],
   "source": [
    "#some data saving\n",
    "sales_NH.to_csv(\"sales_NH.csv\", mode = \"w\")\n",
    "sales_allH.to_csv(\"sales_allH.csv\", mode = \"w\")"
   ]
  },
  {
   "cell_type": "code",
   "execution_count": null,
   "metadata": {},
   "outputs": [],
   "source": [
    "fig = plt.figure(figsize=(10,10)) \n",
    "fig_dims = (3, 2)\n",
    "\n",
    "plt.subplot2grid(fig_dims, (0, 0))\n",
    "sales_allH['Holiday'].value_counts().plot(kind='bar', \n",
    "                                     title='all holidays')\n",
    "plt.subplot2grid(fig_dims, (0, 1))\n",
    "sales_NH['Holiday'].value_counts().plot(kind='bar', \n",
    "                                     title='national holidays')"
   ]
  },
  {
   "cell_type": "markdown",
   "metadata": {},
   "source": [
    "______"
   ]
  },
  {
   "cell_type": "markdown",
   "metadata": {},
   "source": [
    "# Step 2:\n",
    "To demonstrate your ability to do predictive modeling, demonstrate to us how\n",
    "you would go about forecasting daily sales  \n",
    "* Given this retailer’s 2010-2011 transactions in the datatest, predict the\n",
    "amount (€) this retailer will sell each day of 2012"
   ]
  },
  {
   "cell_type": "code",
   "execution_count": 3,
   "metadata": {},
   "outputs": [],
   "source": [
    "#all holidays\n",
    "sales_allH = pd.read_csv(\"sales_allH.csv\", index_col = 0, dtype={\"CustomerID\":str})\n",
    "\n",
    "sales_allH[\"InvoiceDate\"] = pd.to_datetime(sales_allH[\"InvoiceDate\"], format='%Y-%m-%d')\n",
    "sales_allH[\"Benefit\"] = sales_allH[\"Quantity\"] * sales_allH[\"UnitPrice\"]\n"
   ]
  },
  {
   "cell_type": "code",
   "execution_count": 38,
   "metadata": {},
   "outputs": [],
   "source": [
    "#national holidays\n",
    "sales_NH = pd.read_csv(\"sales_NH.csv\", index_col = 0, dtype={\"CustomerID\":str})\n",
    "\n",
    "sales_NH[\"InvoiceDate\"] = pd.to_datetime(sales_NH[\"InvoiceDate\"], format='%Y-%m-%d')\n",
    "sales_NH[\"Benefit\"] = sales_NH[\"Quantity\"] * sales_NH[\"UnitPrice\"]"
   ]
  },
  {
   "cell_type": "markdown",
   "metadata": {},
   "source": [
    "## Feature validation"
   ]
  },
  {
   "cell_type": "code",
   "execution_count": 4,
   "metadata": {},
   "outputs": [],
   "source": [
    "def filter_by_condition(data,condition):\n",
    "    \"\"\"\n",
    "    \n",
    "    For a given Dataset and condition, returns the dataset without entries matching the condition \n",
    "    Also, prints the amount of entries before and after filtering and the difference\n",
    "    \n",
    "    Parameters:\n",
    "    ----------\n",
    "    data: Any dataset\n",
    "    condition: column selection and condition to be matched in that column\n",
    "    \n",
    "    \"\"\"\n",
    "    len_data = len(data)\n",
    "    data = data[condition]\n",
    "    \n",
    "    print(\"total entries\", len_data, \n",
    "      \", remaining entries\", len(data), \n",
    "      \", Dif:\", len_data - len(data))\n",
    "    return data"
   ]
  },
  {
   "cell_type": "markdown",
   "metadata": {},
   "source": [
    "### **InvoiceNo:** \n",
    "those which start with \"C\" are cancellations, that so, we will asume that what's relevant is the original buy prior to later back down. So we erase them:"
   ]
  },
  {
   "cell_type": "code",
   "execution_count": 5,
   "metadata": {},
   "outputs": [
    {
     "name": "stdout",
     "output_type": "stream",
     "text": [
      "total entries 541402 , remaining entries 532115 , Dif: 9287\n"
     ]
    }
   ],
   "source": [
    "canc_filter = ~sales_allH.InvoiceNo.str.startswith('C')\n",
    "\n",
    "sales_allH = filter_by_condition(sales_allH, canc_filter)\n"
   ]
  },
  {
   "cell_type": "markdown",
   "metadata": {},
   "source": [
    "### **StockCode:** \n",
    "Supposedly to be only a number, pandas has determined to be an object, so it might not be true"
   ]
  },
  {
   "cell_type": "code",
   "execution_count": 6,
   "metadata": {},
   "outputs": [
    {
     "data": {
      "text/plain": [
       "53596"
      ]
     },
     "execution_count": 6,
     "metadata": {},
     "output_type": "execute_result"
    }
   ],
   "source": [
    "#not numbers\n",
    "NoNumb = pd.to_numeric(sales_allH.StockCode, errors=\"coerce\").isna()\n",
    "\n",
    "NoNumb.sum()"
   ]
  },
  {
   "cell_type": "code",
   "execution_count": 7,
   "metadata": {},
   "outputs": [
    {
     "data": {
      "text/plain": [
       "0     85123A\n",
       "2     84406B\n",
       "3     84029G\n",
       "4     84029E\n",
       "45      POST\n",
       "49    85123A\n",
       "51    84406B\n",
       "60    82494L\n",
       "61    84029G\n",
       "62    84029E\n",
       "Name: StockCode, dtype: object"
      ]
     },
     "execution_count": 7,
     "metadata": {},
     "output_type": "execute_result"
    }
   ],
   "source": [
    "sales_allH.StockCode[NoNumb][:10]\n",
    "\n",
    "#so mainly number and a letter..."
   ]
  },
  {
   "cell_type": "code",
   "execution_count": 8,
   "metadata": {},
   "outputs": [
    {
     "data": {
      "text/plain": [
       "{'AMAZONFEE',\n",
       " 'B',\n",
       " 'BANK CHARGES',\n",
       " 'DCGSSBOY',\n",
       " 'DCGSSGIRL',\n",
       " 'DOT',\n",
       " 'M',\n",
       " 'PADS',\n",
       " 'POST',\n",
       " 'S',\n",
       " 'm'}"
      ]
     },
     "execution_count": 8,
     "metadata": {},
     "output_type": "execute_result"
    }
   ],
   "source": [
    "#ok, appart from number+letter\n",
    "StockCodeWords = set(sales_allH.StockCode[~sales_allH.StockCode.str.contains(\"[$0-9]\")])\n",
    "StockCodeWords"
   ]
  },
  {
   "cell_type": "code",
   "execution_count": 9,
   "metadata": {},
   "outputs": [],
   "source": [
    "example = pd.DataFrame()\n",
    "for i in StockCodeWords:\n",
    "    example = example.append(sales_allH[sales_allH.StockCode == i].head(1))"
   ]
  },
  {
   "cell_type": "code",
   "execution_count": 10,
   "metadata": {},
   "outputs": [
    {
     "data": {
      "text/html": [
       "<div>\n",
       "<style scoped>\n",
       "    .dataframe tbody tr th:only-of-type {\n",
       "        vertical-align: middle;\n",
       "    }\n",
       "\n",
       "    .dataframe tbody tr th {\n",
       "        vertical-align: top;\n",
       "    }\n",
       "\n",
       "    .dataframe thead th {\n",
       "        text-align: right;\n",
       "    }\n",
       "</style>\n",
       "<table border=\"1\" class=\"dataframe\">\n",
       "  <thead>\n",
       "    <tr style=\"text-align: right;\">\n",
       "      <th></th>\n",
       "      <th>InvoiceNo</th>\n",
       "      <th>StockCode</th>\n",
       "      <th>Description</th>\n",
       "      <th>Quantity</th>\n",
       "      <th>InvoiceDate</th>\n",
       "      <th>UnitPrice</th>\n",
       "      <th>CustomerID</th>\n",
       "      <th>Country</th>\n",
       "      <th>Holiday</th>\n",
       "      <th>Benefit</th>\n",
       "    </tr>\n",
       "  </thead>\n",
       "  <tbody>\n",
       "    <tr>\n",
       "      <th>40383</th>\n",
       "      <td>539736</td>\n",
       "      <td>m</td>\n",
       "      <td>Manual</td>\n",
       "      <td>1</td>\n",
       "      <td>2010-12-21</td>\n",
       "      <td>2.550</td>\n",
       "      <td>NaN</td>\n",
       "      <td>United Kingdom</td>\n",
       "      <td>False</td>\n",
       "      <td>2.550</td>\n",
       "    </tr>\n",
       "    <tr>\n",
       "      <th>299982</th>\n",
       "      <td>A563185</td>\n",
       "      <td>B</td>\n",
       "      <td>Adjust bad debt</td>\n",
       "      <td>1</td>\n",
       "      <td>2011-08-12</td>\n",
       "      <td>11062.060</td>\n",
       "      <td>NaN</td>\n",
       "      <td>United Kingdom</td>\n",
       "      <td>False</td>\n",
       "      <td>11062.060</td>\n",
       "    </tr>\n",
       "    <tr>\n",
       "      <th>157195</th>\n",
       "      <td>550193</td>\n",
       "      <td>PADS</td>\n",
       "      <td>PADS TO MATCH ALL CUSHIONS</td>\n",
       "      <td>1</td>\n",
       "      <td>2011-04-15</td>\n",
       "      <td>0.001</td>\n",
       "      <td>13952</td>\n",
       "      <td>United Kingdom</td>\n",
       "      <td>False</td>\n",
       "      <td>0.001</td>\n",
       "    </tr>\n",
       "    <tr>\n",
       "      <th>152709</th>\n",
       "      <td>549684</td>\n",
       "      <td>S</td>\n",
       "      <td>SAMPLES</td>\n",
       "      <td>1</td>\n",
       "      <td>2011-04-11</td>\n",
       "      <td>30.000</td>\n",
       "      <td>NaN</td>\n",
       "      <td>United Kingdom</td>\n",
       "      <td>False</td>\n",
       "      <td>30.000</td>\n",
       "    </tr>\n",
       "    <tr>\n",
       "      <th>45</th>\n",
       "      <td>536370</td>\n",
       "      <td>POST</td>\n",
       "      <td>POSTAGE</td>\n",
       "      <td>3</td>\n",
       "      <td>2010-12-01</td>\n",
       "      <td>18.000</td>\n",
       "      <td>12583</td>\n",
       "      <td>France</td>\n",
       "      <td>False</td>\n",
       "      <td>54.000</td>\n",
       "    </tr>\n",
       "    <tr>\n",
       "      <th>84016</th>\n",
       "      <td>543358</td>\n",
       "      <td>DCGSSBOY</td>\n",
       "      <td>BOYS PARTY BAG</td>\n",
       "      <td>1</td>\n",
       "      <td>2011-02-07</td>\n",
       "      <td>3.290</td>\n",
       "      <td>NaN</td>\n",
       "      <td>United Kingdom</td>\n",
       "      <td>False</td>\n",
       "      <td>3.290</td>\n",
       "    </tr>\n",
       "    <tr>\n",
       "      <th>4406</th>\n",
       "      <td>536779</td>\n",
       "      <td>BANK CHARGES</td>\n",
       "      <td>Bank Charges</td>\n",
       "      <td>1</td>\n",
       "      <td>2010-12-02</td>\n",
       "      <td>15.000</td>\n",
       "      <td>15823</td>\n",
       "      <td>United Kingdom</td>\n",
       "      <td>False</td>\n",
       "      <td>15.000</td>\n",
       "    </tr>\n",
       "    <tr>\n",
       "      <th>2239</th>\n",
       "      <td>536569</td>\n",
       "      <td>M</td>\n",
       "      <td>Manual</td>\n",
       "      <td>1</td>\n",
       "      <td>2010-12-01</td>\n",
       "      <td>1.250</td>\n",
       "      <td>16274</td>\n",
       "      <td>United Kingdom</td>\n",
       "      <td>False</td>\n",
       "      <td>1.250</td>\n",
       "    </tr>\n",
       "    <tr>\n",
       "      <th>15017</th>\n",
       "      <td>537632</td>\n",
       "      <td>AMAZONFEE</td>\n",
       "      <td>AMAZON FEE</td>\n",
       "      <td>1</td>\n",
       "      <td>2010-12-07</td>\n",
       "      <td>13541.330</td>\n",
       "      <td>NaN</td>\n",
       "      <td>United Kingdom</td>\n",
       "      <td>False</td>\n",
       "      <td>13541.330</td>\n",
       "    </tr>\n",
       "    <tr>\n",
       "      <th>84017</th>\n",
       "      <td>543358</td>\n",
       "      <td>DCGSSGIRL</td>\n",
       "      <td>GIRLS PARTY BAG</td>\n",
       "      <td>3</td>\n",
       "      <td>2011-02-07</td>\n",
       "      <td>3.290</td>\n",
       "      <td>NaN</td>\n",
       "      <td>United Kingdom</td>\n",
       "      <td>False</td>\n",
       "      <td>9.870</td>\n",
       "    </tr>\n",
       "    <tr>\n",
       "      <th>1814</th>\n",
       "      <td>536544</td>\n",
       "      <td>DOT</td>\n",
       "      <td>DOTCOM POSTAGE</td>\n",
       "      <td>1</td>\n",
       "      <td>2010-12-01</td>\n",
       "      <td>569.770</td>\n",
       "      <td>NaN</td>\n",
       "      <td>United Kingdom</td>\n",
       "      <td>False</td>\n",
       "      <td>569.770</td>\n",
       "    </tr>\n",
       "  </tbody>\n",
       "</table>\n",
       "</div>"
      ],
      "text/plain": [
       "       InvoiceNo     StockCode                 Description  Quantity  \\\n",
       "40383     539736             m                      Manual         1   \n",
       "299982   A563185             B             Adjust bad debt         1   \n",
       "157195    550193          PADS  PADS TO MATCH ALL CUSHIONS         1   \n",
       "152709    549684             S                     SAMPLES         1   \n",
       "45        536370          POST                     POSTAGE         3   \n",
       "84016     543358      DCGSSBOY              BOYS PARTY BAG         1   \n",
       "4406      536779  BANK CHARGES                Bank Charges         1   \n",
       "2239      536569             M                      Manual         1   \n",
       "15017     537632     AMAZONFEE                  AMAZON FEE         1   \n",
       "84017     543358     DCGSSGIRL             GIRLS PARTY BAG         3   \n",
       "1814      536544           DOT              DOTCOM POSTAGE         1   \n",
       "\n",
       "       InvoiceDate  UnitPrice CustomerID         Country  Holiday    Benefit  \n",
       "40383   2010-12-21      2.550        NaN  United Kingdom    False      2.550  \n",
       "299982  2011-08-12  11062.060        NaN  United Kingdom    False  11062.060  \n",
       "157195  2011-04-15      0.001      13952  United Kingdom    False      0.001  \n",
       "152709  2011-04-11     30.000        NaN  United Kingdom    False     30.000  \n",
       "45      2010-12-01     18.000      12583          France    False     54.000  \n",
       "84016   2011-02-07      3.290        NaN  United Kingdom    False      3.290  \n",
       "4406    2010-12-02     15.000      15823  United Kingdom    False     15.000  \n",
       "2239    2010-12-01      1.250      16274  United Kingdom    False      1.250  \n",
       "15017   2010-12-07  13541.330        NaN  United Kingdom    False  13541.330  \n",
       "84017   2011-02-07      3.290        NaN  United Kingdom    False      9.870  \n",
       "1814    2010-12-01    569.770        NaN  United Kingdom    False    569.770  "
      ]
     },
     "execution_count": 10,
     "metadata": {},
     "output_type": "execute_result"
    }
   ],
   "source": [
    "example"
   ]
  },
  {
   "cell_type": "code",
   "execution_count": 11,
   "metadata": {},
   "outputs": [
    {
     "data": {
      "text/plain": [
       "{'m': 1,\n",
       " 'B': 3,\n",
       " 'PADS': 4,\n",
       " 'S': 2,\n",
       " 'POST': 1127,\n",
       " 'DCGSSBOY': 11,\n",
       " 'BANK CHARGES': 12,\n",
       " 'M': 327,\n",
       " 'AMAZONFEE': 2,\n",
       " 'DCGSSGIRL': 13,\n",
       " 'DOT': 709}"
      ]
     },
     "execution_count": 11,
     "metadata": {},
     "output_type": "execute_result"
    }
   ],
   "source": [
    "{i:len(sales_allH[sales_allH.StockCode == i]) for i in StockCodeWords}"
   ]
  },
  {
   "cell_type": "code",
   "execution_count": 12,
   "metadata": {},
   "outputs": [
    {
     "name": "stdout",
     "output_type": "stream",
     "text": [
      "Income from unmapped data:  365544.5340000003\n"
     ]
    }
   ],
   "source": [
    "not_code_filter = ~sales_allH.StockCode.isin(list(StockCodeWords))\n",
    "print(\"Income from unmapped data: \",sum(sales_allH.Benefit[~not_code_filter]))"
   ]
  },
  {
   "cell_type": "markdown",
   "metadata": {},
   "source": [
    "whilst \"DCGSSBOY\", \"DCGSSGIRL\", \"M\" and \"m\" seem to be products sold, rest of this Codes might be some other . \n",
    "\n",
    "In any case, we don't have further data to confirm this asumption and despite being few entries for 366k£, we won't consider them for the model."
   ]
  },
  {
   "cell_type": "code",
   "execution_count": 13,
   "metadata": {},
   "outputs": [
    {
     "name": "stdout",
     "output_type": "stream",
     "text": [
      "total entries 532115 , remaining entries 529904 , Dif: 2211\n"
     ]
    }
   ],
   "source": [
    "sales_allH = filter_by_condition(sales_allH, not_code_filter)"
   ]
  },
  {
   "cell_type": "markdown",
   "metadata": {},
   "source": [
    "###  **Quantity:** \n",
    "Numeric field (in this case it's confirmed by column type - int)... could there be any negative values? what could they mean?"
   ]
  },
  {
   "cell_type": "code",
   "execution_count": 14,
   "metadata": {},
   "outputs": [
    {
     "data": {
      "text/plain": [
       "[<matplotlib.lines.Line2D at 0x263c95cffd0>]"
      ]
     },
     "execution_count": 14,
     "metadata": {},
     "output_type": "execute_result"
    },
    {
     "data": {
      "image/png": "[encoded data removed]",
      "text/plain": [
       "<Figure size 432x288 with 1 Axes>"
      ]
     },
     "metadata": {
      "needs_background": "light"
     },
     "output_type": "display_data"
    }
   ],
   "source": [
    "#as there is a long tail, we filter to visualize the data\n",
    "plt.plot(sales_allH.Quantity[sales_allH.Quantity<20000].sort_values().unique())"
   ]
  },
  {
   "cell_type": "code",
   "execution_count": 15,
   "metadata": {},
   "outputs": [
    {
     "data": {
      "text/html": [
       "<div>\n",
       "<style scoped>\n",
       "    .dataframe tbody tr th:only-of-type {\n",
       "        vertical-align: middle;\n",
       "    }\n",
       "\n",
       "    .dataframe tbody tr th {\n",
       "        vertical-align: top;\n",
       "    }\n",
       "\n",
       "    .dataframe thead th {\n",
       "        text-align: right;\n",
       "    }\n",
       "</style>\n",
       "<table border=\"1\" class=\"dataframe\">\n",
       "  <thead>\n",
       "    <tr style=\"text-align: right;\">\n",
       "      <th></th>\n",
       "      <th>InvoiceNo</th>\n",
       "      <th>StockCode</th>\n",
       "      <th>Description</th>\n",
       "      <th>Quantity</th>\n",
       "      <th>InvoiceDate</th>\n",
       "      <th>UnitPrice</th>\n",
       "      <th>CustomerID</th>\n",
       "      <th>Country</th>\n",
       "      <th>Holiday</th>\n",
       "      <th>Benefit</th>\n",
       "    </tr>\n",
       "  </thead>\n",
       "  <tbody>\n",
       "    <tr>\n",
       "      <th>185168</th>\n",
       "      <td>552767</td>\n",
       "      <td>79164</td>\n",
       "      <td>NaN</td>\n",
       "      <td>-47</td>\n",
       "      <td>2011-05-11</td>\n",
       "      <td>0.0</td>\n",
       "      <td>NaN</td>\n",
       "      <td>United Kingdom</td>\n",
       "      <td>False</td>\n",
       "      <td>-0.0</td>\n",
       "    </tr>\n",
       "    <tr>\n",
       "      <th>472844</th>\n",
       "      <td>576767</td>\n",
       "      <td>22339</td>\n",
       "      <td>check</td>\n",
       "      <td>-60</td>\n",
       "      <td>2011-11-16</td>\n",
       "      <td>0.0</td>\n",
       "      <td>NaN</td>\n",
       "      <td>United Kingdom</td>\n",
       "      <td>False</td>\n",
       "      <td>-0.0</td>\n",
       "    </tr>\n",
       "    <tr>\n",
       "      <th>148106</th>\n",
       "      <td>549170</td>\n",
       "      <td>82545A</td>\n",
       "      <td>NaN</td>\n",
       "      <td>-4</td>\n",
       "      <td>2011-04-06</td>\n",
       "      <td>0.0</td>\n",
       "      <td>NaN</td>\n",
       "      <td>United Kingdom</td>\n",
       "      <td>False</td>\n",
       "      <td>-0.0</td>\n",
       "    </tr>\n",
       "    <tr>\n",
       "      <th>418063</th>\n",
       "      <td>572684</td>\n",
       "      <td>23029</td>\n",
       "      <td>damages</td>\n",
       "      <td>-20</td>\n",
       "      <td>2011-10-25</td>\n",
       "      <td>0.0</td>\n",
       "      <td>NaN</td>\n",
       "      <td>United Kingdom</td>\n",
       "      <td>False</td>\n",
       "      <td>-0.0</td>\n",
       "    </tr>\n",
       "    <tr>\n",
       "      <th>150153</th>\n",
       "      <td>549343</td>\n",
       "      <td>72815</td>\n",
       "      <td>NaN</td>\n",
       "      <td>-3</td>\n",
       "      <td>2011-04-08</td>\n",
       "      <td>0.0</td>\n",
       "      <td>NaN</td>\n",
       "      <td>United Kingdom</td>\n",
       "      <td>False</td>\n",
       "      <td>-0.0</td>\n",
       "    </tr>\n",
       "    <tr>\n",
       "      <th>148563</th>\n",
       "      <td>549244</td>\n",
       "      <td>79331</td>\n",
       "      <td>NaN</td>\n",
       "      <td>-3</td>\n",
       "      <td>2011-04-07</td>\n",
       "      <td>0.0</td>\n",
       "      <td>NaN</td>\n",
       "      <td>United Kingdom</td>\n",
       "      <td>False</td>\n",
       "      <td>-0.0</td>\n",
       "    </tr>\n",
       "    <tr>\n",
       "      <th>114535</th>\n",
       "      <td>546021</td>\n",
       "      <td>85175</td>\n",
       "      <td>dotcom sold sets</td>\n",
       "      <td>-345</td>\n",
       "      <td>2011-03-08</td>\n",
       "      <td>0.0</td>\n",
       "      <td>NaN</td>\n",
       "      <td>United Kingdom</td>\n",
       "      <td>True</td>\n",
       "      <td>-0.0</td>\n",
       "    </tr>\n",
       "    <tr>\n",
       "      <th>418127</th>\n",
       "      <td>572699</td>\n",
       "      <td>72818</td>\n",
       "      <td>NaN</td>\n",
       "      <td>-48</td>\n",
       "      <td>2011-10-25</td>\n",
       "      <td>0.0</td>\n",
       "      <td>NaN</td>\n",
       "      <td>United Kingdom</td>\n",
       "      <td>False</td>\n",
       "      <td>-0.0</td>\n",
       "    </tr>\n",
       "    <tr>\n",
       "      <th>149043</th>\n",
       "      <td>549264</td>\n",
       "      <td>21337</td>\n",
       "      <td>NaN</td>\n",
       "      <td>-21</td>\n",
       "      <td>2011-04-07</td>\n",
       "      <td>0.0</td>\n",
       "      <td>NaN</td>\n",
       "      <td>United Kingdom</td>\n",
       "      <td>False</td>\n",
       "      <td>-0.0</td>\n",
       "    </tr>\n",
       "    <tr>\n",
       "      <th>203752</th>\n",
       "      <td>554551</td>\n",
       "      <td>47566B</td>\n",
       "      <td>reverse previous adjustment</td>\n",
       "      <td>-1300</td>\n",
       "      <td>2011-05-25</td>\n",
       "      <td>0.0</td>\n",
       "      <td>NaN</td>\n",
       "      <td>United Kingdom</td>\n",
       "      <td>False</td>\n",
       "      <td>-0.0</td>\n",
       "    </tr>\n",
       "  </tbody>\n",
       "</table>\n",
       "</div>"
      ],
      "text/plain": [
       "       InvoiceNo StockCode                  Description  Quantity InvoiceDate  \\\n",
       "185168    552767     79164                          NaN       -47  2011-05-11   \n",
       "472844    576767     22339                        check       -60  2011-11-16   \n",
       "148106    549170    82545A                          NaN        -4  2011-04-06   \n",
       "418063    572684     23029                      damages       -20  2011-10-25   \n",
       "150153    549343     72815                          NaN        -3  2011-04-08   \n",
       "148563    549244     79331                          NaN        -3  2011-04-07   \n",
       "114535    546021     85175             dotcom sold sets      -345  2011-03-08   \n",
       "418127    572699     72818                          NaN       -48  2011-10-25   \n",
       "149043    549264     21337                          NaN       -21  2011-04-07   \n",
       "203752    554551    47566B  reverse previous adjustment     -1300  2011-05-25   \n",
       "\n",
       "        UnitPrice CustomerID         Country  Holiday  Benefit  \n",
       "185168        0.0        NaN  United Kingdom    False     -0.0  \n",
       "472844        0.0        NaN  United Kingdom    False     -0.0  \n",
       "148106        0.0        NaN  United Kingdom    False     -0.0  \n",
       "418063        0.0        NaN  United Kingdom    False     -0.0  \n",
       "150153        0.0        NaN  United Kingdom    False     -0.0  \n",
       "148563        0.0        NaN  United Kingdom    False     -0.0  \n",
       "114535        0.0        NaN  United Kingdom     True     -0.0  \n",
       "418127        0.0        NaN  United Kingdom    False     -0.0  \n",
       "149043        0.0        NaN  United Kingdom    False     -0.0  \n",
       "203752        0.0        NaN  United Kingdom    False     -0.0  "
      ]
     },
     "execution_count": 15,
     "metadata": {},
     "output_type": "execute_result"
    }
   ],
   "source": [
    "sales_allH[sales_allH.Quantity<0].sample(10)"
   ]
  },
  {
   "cell_type": "markdown",
   "metadata": {},
   "source": [
    "It seems negative quantity values are meant to represent inventary corrections or mistakes, so it should not affect sales predictions"
   ]
  },
  {
   "cell_type": "code",
   "execution_count": 16,
   "metadata": {},
   "outputs": [
    {
     "name": "stdout",
     "output_type": "stream",
     "text": [
      "total entries 529904 , remaining entries 528568 , Dif: 1336\n"
     ]
    }
   ],
   "source": [
    "neg_quantity_filter = ~sales_allH.Quantity<0\n",
    "sales_allH = filter_by_condition(sales_allH, neg_quantity_filter)"
   ]
  },
  {
   "cell_type": "markdown",
   "metadata": {},
   "source": [
    "### UnitPrice\n",
    "Numeric field (float). negative values? outliers?"
   ]
  },
  {
   "cell_type": "code",
   "execution_count": 17,
   "metadata": {},
   "outputs": [
    {
     "data": {
      "text/plain": [
       "[<matplotlib.lines.Line2D at 0x263c9535278>]"
      ]
     },
     "execution_count": 17,
     "metadata": {},
     "output_type": "execute_result"
    },
    {
     "data": {
      "image/png": "[encoded data removed]",
      "text/plain": [
       "<Figure size 432x288 with 1 Axes>"
      ]
     },
     "metadata": {
      "needs_background": "light"
     },
     "output_type": "display_data"
    }
   ],
   "source": [
    "plt.plot(sales_allH.UnitPrice.sort_values().unique())"
   ]
  },
  {
   "cell_type": "markdown",
   "metadata": {},
   "source": [
    "seems normal..."
   ]
  },
  {
   "cell_type": "markdown",
   "metadata": {},
   "source": [
    "### Benefit\n",
    "it should be normal since we checked UnitPrice and Quantity variables"
   ]
  },
  {
   "cell_type": "code",
   "execution_count": 18,
   "metadata": {},
   "outputs": [
    {
     "data": {
      "text/plain": [
       "[<matplotlib.lines.Line2D at 0x263c940da90>]"
      ]
     },
     "execution_count": 18,
     "metadata": {},
     "output_type": "execute_result"
    },
    {
     "data": {
      "image/png": "[encoded data removed]",
      "text/plain": [
       "<Figure size 432x288 with 1 Axes>"
      ]
     },
     "metadata": {
      "needs_background": "light"
     },
     "output_type": "display_data"
    }
   ],
   "source": [
    "plt.plot(sales_allH.Benefit.sort_values().unique())"
   ]
  },
  {
   "cell_type": "code",
   "execution_count": 19,
   "metadata": {},
   "outputs": [
    {
     "data": {
      "text/html": [
       "<div>\n",
       "<style scoped>\n",
       "    .dataframe tbody tr th:only-of-type {\n",
       "        vertical-align: middle;\n",
       "    }\n",
       "\n",
       "    .dataframe tbody tr th {\n",
       "        vertical-align: top;\n",
       "    }\n",
       "\n",
       "    .dataframe thead th {\n",
       "        text-align: right;\n",
       "    }\n",
       "</style>\n",
       "<table border=\"1\" class=\"dataframe\">\n",
       "  <thead>\n",
       "    <tr style=\"text-align: right;\">\n",
       "      <th></th>\n",
       "      <th>InvoiceNo</th>\n",
       "      <th>StockCode</th>\n",
       "      <th>Description</th>\n",
       "      <th>Quantity</th>\n",
       "      <th>InvoiceDate</th>\n",
       "      <th>UnitPrice</th>\n",
       "      <th>CustomerID</th>\n",
       "      <th>Country</th>\n",
       "      <th>Holiday</th>\n",
       "      <th>Benefit</th>\n",
       "    </tr>\n",
       "  </thead>\n",
       "  <tbody>\n",
       "    <tr>\n",
       "      <th>52134</th>\n",
       "      <td>540689</td>\n",
       "      <td>22470</td>\n",
       "      <td>HEART OF WICKER LARGE</td>\n",
       "      <td>1284</td>\n",
       "      <td>2011-01-11</td>\n",
       "      <td>3.21</td>\n",
       "      <td>17450</td>\n",
       "      <td>United Kingdom</td>\n",
       "      <td>False</td>\n",
       "      <td>4121.64</td>\n",
       "    </tr>\n",
       "    <tr>\n",
       "      <th>52709</th>\n",
       "      <td>540815</td>\n",
       "      <td>85123A</td>\n",
       "      <td>WHITE HANGING HEART T-LIGHT HOLDER</td>\n",
       "      <td>1930</td>\n",
       "      <td>2011-01-11</td>\n",
       "      <td>2.55</td>\n",
       "      <td>15749</td>\n",
       "      <td>United Kingdom</td>\n",
       "      <td>False</td>\n",
       "      <td>4921.50</td>\n",
       "    </tr>\n",
       "    <tr>\n",
       "      <th>52711</th>\n",
       "      <td>540815</td>\n",
       "      <td>21108</td>\n",
       "      <td>FAIRY CAKE FLANNEL ASSORTED COLOUR</td>\n",
       "      <td>3114</td>\n",
       "      <td>2011-01-11</td>\n",
       "      <td>2.10</td>\n",
       "      <td>15749</td>\n",
       "      <td>United Kingdom</td>\n",
       "      <td>False</td>\n",
       "      <td>6539.40</td>\n",
       "    </tr>\n",
       "    <tr>\n",
       "      <th>52772</th>\n",
       "      <td>540818</td>\n",
       "      <td>48185</td>\n",
       "      <td>DOORMAT FAIRY CAKE</td>\n",
       "      <td>670</td>\n",
       "      <td>2011-01-11</td>\n",
       "      <td>6.75</td>\n",
       "      <td>15749</td>\n",
       "      <td>United Kingdom</td>\n",
       "      <td>False</td>\n",
       "      <td>4522.50</td>\n",
       "    </tr>\n",
       "    <tr>\n",
       "      <th>61619</th>\n",
       "      <td>541431</td>\n",
       "      <td>23166</td>\n",
       "      <td>MEDIUM CERAMIC TOP STORAGE JAR</td>\n",
       "      <td>74215</td>\n",
       "      <td>2011-01-18</td>\n",
       "      <td>1.04</td>\n",
       "      <td>12346</td>\n",
       "      <td>United Kingdom</td>\n",
       "      <td>False</td>\n",
       "      <td>77183.60</td>\n",
       "    </tr>\n",
       "    <tr>\n",
       "      <th>160542</th>\n",
       "      <td>550461</td>\n",
       "      <td>85123A</td>\n",
       "      <td>WHITE HANGING HEART T-LIGHT HOLDER</td>\n",
       "      <td>1930</td>\n",
       "      <td>2011-04-18</td>\n",
       "      <td>2.40</td>\n",
       "      <td>15749</td>\n",
       "      <td>United Kingdom</td>\n",
       "      <td>False</td>\n",
       "      <td>4632.00</td>\n",
       "    </tr>\n",
       "    <tr>\n",
       "      <th>160544</th>\n",
       "      <td>550461</td>\n",
       "      <td>48185</td>\n",
       "      <td>DOORMAT FAIRY CAKE</td>\n",
       "      <td>670</td>\n",
       "      <td>2011-04-18</td>\n",
       "      <td>6.35</td>\n",
       "      <td>15749</td>\n",
       "      <td>United Kingdom</td>\n",
       "      <td>False</td>\n",
       "      <td>4254.50</td>\n",
       "    </tr>\n",
       "    <tr>\n",
       "      <th>160546</th>\n",
       "      <td>550461</td>\n",
       "      <td>21108</td>\n",
       "      <td>FAIRY CAKE FLANNEL ASSORTED COLOUR</td>\n",
       "      <td>3114</td>\n",
       "      <td>2011-04-18</td>\n",
       "      <td>2.10</td>\n",
       "      <td>15749</td>\n",
       "      <td>United Kingdom</td>\n",
       "      <td>False</td>\n",
       "      <td>6539.40</td>\n",
       "    </tr>\n",
       "    <tr>\n",
       "      <th>222680</th>\n",
       "      <td>556444</td>\n",
       "      <td>22502</td>\n",
       "      <td>PICNIC BASKET WICKER 60 PIECES</td>\n",
       "      <td>60</td>\n",
       "      <td>2011-06-10</td>\n",
       "      <td>649.50</td>\n",
       "      <td>15098</td>\n",
       "      <td>United Kingdom</td>\n",
       "      <td>False</td>\n",
       "      <td>38970.00</td>\n",
       "    </tr>\n",
       "    <tr>\n",
       "      <th>244419</th>\n",
       "      <td>558526</td>\n",
       "      <td>23173</td>\n",
       "      <td>REGENCY TEAPOT ROSES</td>\n",
       "      <td>540</td>\n",
       "      <td>2011-06-30</td>\n",
       "      <td>8.15</td>\n",
       "      <td>17949</td>\n",
       "      <td>United Kingdom</td>\n",
       "      <td>False</td>\n",
       "      <td>4401.00</td>\n",
       "    </tr>\n",
       "    <tr>\n",
       "      <th>291249</th>\n",
       "      <td>562439</td>\n",
       "      <td>84879</td>\n",
       "      <td>ASSORTED COLOUR BIRD ORNAMENT</td>\n",
       "      <td>2880</td>\n",
       "      <td>2011-08-04</td>\n",
       "      <td>1.45</td>\n",
       "      <td>12931</td>\n",
       "      <td>United Kingdom</td>\n",
       "      <td>False</td>\n",
       "      <td>4176.00</td>\n",
       "    </tr>\n",
       "    <tr>\n",
       "      <th>348325</th>\n",
       "      <td>567423</td>\n",
       "      <td>23243</td>\n",
       "      <td>SET OF TEA COFFEE SUGAR TINS PANTRY</td>\n",
       "      <td>1412</td>\n",
       "      <td>2011-09-20</td>\n",
       "      <td>5.06</td>\n",
       "      <td>17450</td>\n",
       "      <td>United Kingdom</td>\n",
       "      <td>False</td>\n",
       "      <td>7144.72</td>\n",
       "    </tr>\n",
       "    <tr>\n",
       "      <th>421601</th>\n",
       "      <td>573003</td>\n",
       "      <td>23084</td>\n",
       "      <td>RABBIT NIGHT LIGHT</td>\n",
       "      <td>2400</td>\n",
       "      <td>2011-10-27</td>\n",
       "      <td>2.08</td>\n",
       "      <td>14646</td>\n",
       "      <td>Netherlands</td>\n",
       "      <td>False</td>\n",
       "      <td>4992.00</td>\n",
       "    </tr>\n",
       "    <tr>\n",
       "      <th>467804</th>\n",
       "      <td>576365</td>\n",
       "      <td>22086</td>\n",
       "      <td>PAPER CHAIN KIT 50'S CHRISTMAS</td>\n",
       "      <td>688</td>\n",
       "      <td>2011-11-14</td>\n",
       "      <td>6.95</td>\n",
       "      <td>NaN</td>\n",
       "      <td>United Kingdom</td>\n",
       "      <td>False</td>\n",
       "      <td>4781.60</td>\n",
       "    </tr>\n",
       "    <tr>\n",
       "      <th>540421</th>\n",
       "      <td>581483</td>\n",
       "      <td>23843</td>\n",
       "      <td>PAPER CRAFT , LITTLE BIRDIE</td>\n",
       "      <td>80995</td>\n",
       "      <td>2011-12-09</td>\n",
       "      <td>2.08</td>\n",
       "      <td>16446</td>\n",
       "      <td>United Kingdom</td>\n",
       "      <td>False</td>\n",
       "      <td>168469.60</td>\n",
       "    </tr>\n",
       "  </tbody>\n",
       "</table>\n",
       "</div>"
      ],
      "text/plain": [
       "       InvoiceNo StockCode                          Description  Quantity  \\\n",
       "52134     540689     22470                HEART OF WICKER LARGE      1284   \n",
       "52709     540815    85123A   WHITE HANGING HEART T-LIGHT HOLDER      1930   \n",
       "52711     540815     21108   FAIRY CAKE FLANNEL ASSORTED COLOUR      3114   \n",
       "52772     540818     48185                   DOORMAT FAIRY CAKE       670   \n",
       "61619     541431     23166       MEDIUM CERAMIC TOP STORAGE JAR     74215   \n",
       "160542    550461    85123A   WHITE HANGING HEART T-LIGHT HOLDER      1930   \n",
       "160544    550461     48185                   DOORMAT FAIRY CAKE       670   \n",
       "160546    550461     21108   FAIRY CAKE FLANNEL ASSORTED COLOUR      3114   \n",
       "222680    556444     22502       PICNIC BASKET WICKER 60 PIECES        60   \n",
       "244419    558526     23173                REGENCY TEAPOT ROSES        540   \n",
       "291249    562439     84879        ASSORTED COLOUR BIRD ORNAMENT      2880   \n",
       "348325    567423     23243  SET OF TEA COFFEE SUGAR TINS PANTRY      1412   \n",
       "421601    573003     23084                   RABBIT NIGHT LIGHT      2400   \n",
       "467804    576365     22086      PAPER CHAIN KIT 50'S CHRISTMAS        688   \n",
       "540421    581483     23843          PAPER CRAFT , LITTLE BIRDIE     80995   \n",
       "\n",
       "       InvoiceDate  UnitPrice CustomerID         Country  Holiday    Benefit  \n",
       "52134   2011-01-11       3.21      17450  United Kingdom    False    4121.64  \n",
       "52709   2011-01-11       2.55      15749  United Kingdom    False    4921.50  \n",
       "52711   2011-01-11       2.10      15749  United Kingdom    False    6539.40  \n",
       "52772   2011-01-11       6.75      15749  United Kingdom    False    4522.50  \n",
       "61619   2011-01-18       1.04      12346  United Kingdom    False   77183.60  \n",
       "160542  2011-04-18       2.40      15749  United Kingdom    False    4632.00  \n",
       "160544  2011-04-18       6.35      15749  United Kingdom    False    4254.50  \n",
       "160546  2011-04-18       2.10      15749  United Kingdom    False    6539.40  \n",
       "222680  2011-06-10     649.50      15098  United Kingdom    False   38970.00  \n",
       "244419  2011-06-30       8.15      17949  United Kingdom    False    4401.00  \n",
       "291249  2011-08-04       1.45      12931  United Kingdom    False    4176.00  \n",
       "348325  2011-09-20       5.06      17450  United Kingdom    False    7144.72  \n",
       "421601  2011-10-27       2.08      14646     Netherlands    False    4992.00  \n",
       "467804  2011-11-14       6.95        NaN  United Kingdom    False    4781.60  \n",
       "540421  2011-12-09       2.08      16446  United Kingdom    False  168469.60  "
      ]
     },
     "execution_count": 19,
     "metadata": {},
     "output_type": "execute_result"
    }
   ],
   "source": [
    "sales_allH[sales_allH.Benefit > 4000]"
   ]
  },
  {
   "cell_type": "code",
   "execution_count": 20,
   "metadata": {},
   "outputs": [
    {
     "data": {
      "text/plain": [
       "[<matplotlib.lines.Line2D at 0x263c93603c8>]"
      ]
     },
     "execution_count": 20,
     "metadata": {},
     "output_type": "execute_result"
    },
    {
     "data": {
      "image/png": "[encoded data removed]",
      "text/plain": [
       "<Figure size 432x288 with 1 Axes>"
      ]
     },
     "metadata": {
      "needs_background": "light"
     },
     "output_type": "display_data"
    }
   ],
   "source": [
    "plt.plot(sales_allH.Benefit.sort_values().unique())"
   ]
  },
  {
   "cell_type": "code",
   "execution_count": 21,
   "metadata": {},
   "outputs": [
    {
     "data": {
      "text/plain": [
       "540421    168469.60\n",
       "61619      77183.60\n",
       "222680     38970.00\n",
       "348325      7144.72\n",
       "52711       6539.40\n",
       "160546      6539.40\n",
       "421601      4992.00\n",
       "52709       4921.50\n",
       "467804      4781.60\n",
       "160542      4632.00\n",
       "Name: Benefit, dtype: float64"
      ]
     },
     "execution_count": 21,
     "metadata": {},
     "output_type": "execute_result"
    }
   ],
   "source": [
    "sales_allH.Benefit.sort_values(ascending = False)[:10]"
   ]
  },
  {
   "cell_type": "code",
   "execution_count": 27,
   "metadata": {},
   "outputs": [],
   "source": [
    "#a grouping by daily benefits mean its done so no outliers might afect deeply our model.\n",
    "\n",
    "clean_sales_allH = sales_allH.copy().groupby([\"InvoiceDate\", \"Country\", \"Holiday\"]).mean().reset_index()"
   ]
  },
  {
   "cell_type": "code",
   "execution_count": 31,
   "metadata": {},
   "outputs": [],
   "source": [
    "clean_sales_allH = clean_sales_allH.set_index(\"InvoiceDate\")"
   ]
  },
  {
   "cell_type": "code",
   "execution_count": 36,
   "metadata": {},
   "outputs": [
    {
     "data": {
      "text/html": [
       "<div>\n",
       "<style scoped>\n",
       "    .dataframe tbody tr th:only-of-type {\n",
       "        vertical-align: middle;\n",
       "    }\n",
       "\n",
       "    .dataframe tbody tr th {\n",
       "        vertical-align: top;\n",
       "    }\n",
       "\n",
       "    .dataframe thead th {\n",
       "        text-align: right;\n",
       "    }\n",
       "</style>\n",
       "<table border=\"1\" class=\"dataframe\">\n",
       "  <thead>\n",
       "    <tr style=\"text-align: right;\">\n",
       "      <th></th>\n",
       "      <th>Country</th>\n",
       "      <th>Holiday</th>\n",
       "      <th>Quantity</th>\n",
       "      <th>UnitPrice</th>\n",
       "      <th>Benefit</th>\n",
       "    </tr>\n",
       "  </thead>\n",
       "  <tbody>\n",
       "    <tr>\n",
       "      <th>count</th>\n",
       "      <td>1513</td>\n",
       "      <td>1513</td>\n",
       "      <td>1513.000000</td>\n",
       "      <td>1513.000000</td>\n",
       "      <td>1513.000000</td>\n",
       "    </tr>\n",
       "    <tr>\n",
       "      <th>unique</th>\n",
       "      <td>36</td>\n",
       "      <td>2</td>\n",
       "      <td>NaN</td>\n",
       "      <td>NaN</td>\n",
       "      <td>NaN</td>\n",
       "    </tr>\n",
       "    <tr>\n",
       "      <th>top</th>\n",
       "      <td>United Kingdom</td>\n",
       "      <td>False</td>\n",
       "      <td>NaN</td>\n",
       "      <td>NaN</td>\n",
       "      <td>NaN</td>\n",
       "    </tr>\n",
       "    <tr>\n",
       "      <th>freq</th>\n",
       "      <td>305</td>\n",
       "      <td>1362</td>\n",
       "      <td>NaN</td>\n",
       "      <td>NaN</td>\n",
       "      <td>NaN</td>\n",
       "    </tr>\n",
       "    <tr>\n",
       "      <th>mean</th>\n",
       "      <td>NaN</td>\n",
       "      <td>NaN</td>\n",
       "      <td>24.020937</td>\n",
       "      <td>3.284246</td>\n",
       "      <td>42.099859</td>\n",
       "    </tr>\n",
       "    <tr>\n",
       "      <th>std</th>\n",
       "      <td>NaN</td>\n",
       "      <td>NaN</td>\n",
       "      <td>77.813605</td>\n",
       "      <td>2.110247</td>\n",
       "      <td>150.860057</td>\n",
       "    </tr>\n",
       "    <tr>\n",
       "      <th>min</th>\n",
       "      <td>NaN</td>\n",
       "      <td>NaN</td>\n",
       "      <td>1.000000</td>\n",
       "      <td>0.402000</td>\n",
       "      <td>1.224444</td>\n",
       "    </tr>\n",
       "    <tr>\n",
       "      <th>25%</th>\n",
       "      <td>NaN</td>\n",
       "      <td>NaN</td>\n",
       "      <td>8.673870</td>\n",
       "      <td>2.294151</td>\n",
       "      <td>16.550000</td>\n",
       "    </tr>\n",
       "    <tr>\n",
       "      <th>50%</th>\n",
       "      <td>NaN</td>\n",
       "      <td>NaN</td>\n",
       "      <td>11.426667</td>\n",
       "      <td>2.962667</td>\n",
       "      <td>20.277778</td>\n",
       "    </tr>\n",
       "    <tr>\n",
       "      <th>75%</th>\n",
       "      <td>NaN</td>\n",
       "      <td>NaN</td>\n",
       "      <td>16.535714</td>\n",
       "      <td>3.679512</td>\n",
       "      <td>28.914286</td>\n",
       "    </tr>\n",
       "    <tr>\n",
       "      <th>max</th>\n",
       "      <td>NaN</td>\n",
       "      <td>NaN</td>\n",
       "      <td>2040.000000</td>\n",
       "      <td>39.347500</td>\n",
       "      <td>3794.400000</td>\n",
       "    </tr>\n",
       "  </tbody>\n",
       "</table>\n",
       "</div>"
      ],
      "text/plain": [
       "               Country Holiday     Quantity    UnitPrice      Benefit\n",
       "count             1513    1513  1513.000000  1513.000000  1513.000000\n",
       "unique              36       2          NaN          NaN          NaN\n",
       "top     United Kingdom   False          NaN          NaN          NaN\n",
       "freq               305    1362          NaN          NaN          NaN\n",
       "mean               NaN     NaN    24.020937     3.284246    42.099859\n",
       "std                NaN     NaN    77.813605     2.110247   150.860057\n",
       "min                NaN     NaN     1.000000     0.402000     1.224444\n",
       "25%                NaN     NaN     8.673870     2.294151    16.550000\n",
       "50%                NaN     NaN    11.426667     2.962667    20.277778\n",
       "75%                NaN     NaN    16.535714     3.679512    28.914286\n",
       "max                NaN     NaN  2040.000000    39.347500  3794.400000"
      ]
     },
     "execution_count": 36,
     "metadata": {},
     "output_type": "execute_result"
    }
   ],
   "source": [
    "clean_sales_allH.describe(include=\"all\")"
   ]
  },
  {
   "cell_type": "code",
   "execution_count": 37,
   "metadata": {},
   "outputs": [],
   "source": [
    "clean_sales_allH.to_csv(\"clean_sales_allH.csv\")"
   ]
  },
  {
   "cell_type": "code",
   "execution_count": 46,
   "metadata": {},
   "outputs": [
    {
     "name": "stdout",
     "output_type": "stream",
     "text": [
      "total entries 541402 , remaining entries 532115 , Dif: 9287\n"
     ]
    },
    {
     "name": "stderr",
     "output_type": "stream",
     "text": [
      "C:\\ProgramData\\Anaconda3\\lib\\site-packages\\ipykernel_launcher.py:14: UserWarning: Boolean Series key will be reindexed to match DataFrame index.\n",
      "  \n"
     ]
    },
    {
     "name": "stdout",
     "output_type": "stream",
     "text": [
      "total entries 532115 , remaining entries 529904 , Dif: 2211\n",
      "total entries 529904 , remaining entries 528568 , Dif: 1336\n"
     ]
    }
   ],
   "source": [
    "#same processing for only national holidays dataset\n",
    "\n",
    "StockCodeWords_NH = set(sales_NH.StockCode[~sales_NH.StockCode.str.contains(\"[$0-9]\")])\n",
    "conditions = [~sales_NH.InvoiceNo.str.startswith('C'), \n",
    "              ~sales_NH.StockCode.isin(list(StockCodeWords_NH)), \n",
    "              ~sales_NH.Quantity<0]\n",
    "\n",
    "for i in conditions:\n",
    "    sales_NH = filter_by_condition(sales_NH, i)"
   ]
  },
  {
   "cell_type": "code",
   "execution_count": 47,
   "metadata": {},
   "outputs": [],
   "source": [
    "clean_sales_NH = sales_NH.copy().groupby([\"InvoiceDate\", \"Country\", \"Holiday\"]).mean().reset_index()\n",
    "clean_sales_NH = clean_sales_NH.set_index(\"InvoiceDate\")\n",
    "\n",
    "clean_sales_NH.to_csv(\"clean_sales_NH.csv\")"
   ]
  },
  {
   "cell_type": "markdown",
   "metadata": {},
   "source": [
    "## Lets predict!\n",
    "\n",
    "2.1. Baseline: Average  \n",
    "2.2. ML  \n",
    "2.3. time series decomposition  \n",
    "\n",
    "**next steps**\n",
    "* feature engineering: lags (weekly, monthly...), national/all holidays, \n",
    "countries (one hot encoding)\n",
    "* use test data to optimize hiperparameters\n",
    "* time series decomposition and prediction (Arima)\n"
   ]
  },
  {
   "cell_type": "code",
   "execution_count": 323,
   "metadata": {},
   "outputs": [],
   "source": [
    "clean_sales_allH = pd.read_csv(\"clean_sales_allH.csv\", index_col = \"InvoiceDate\", parse_dates = True).sort_index()\n",
    "clean_sales_NH = pd.read_csv(\"clean_sales_NH.csv\", index_col = \"InvoiceDate\", parse_dates = True).sort_index()"
   ]
  },
  {
   "cell_type": "markdown",
   "metadata": {},
   "source": [
    "**2.1 Average**"
   ]
  },
  {
   "cell_type": "code",
   "execution_count": 634,
   "metadata": {},
   "outputs": [],
   "source": [
    "data = clean_sales_allH.copy()"
   ]
  },
  {
   "cell_type": "code",
   "execution_count": 635,
   "metadata": {},
   "outputs": [],
   "source": [
    "data = data.resample(\"D\").mean()"
   ]
  },
  {
   "cell_type": "code",
   "execution_count": 636,
   "metadata": {},
   "outputs": [],
   "source": [
    "def create_X_and_y(Xy, target_column='Benefit'):\n",
    "    return Xy.index, Xy[target_column]\n",
    "\n",
    "def split_into_train_dev_test(Xy):\n",
    "    X_train, y_train = create_X_and_y(Xy[Xy.index < Xy.index[int(len(Xy.index)/100*60)]]) #60% of data\n",
    "    X_dev, y_dev = create_X_and_y(Xy[(Xy.index < Xy.index[int(len(Xy.index)/100*80)]) \n",
    "                                     & (Xy.index > Xy.index[int(len(Xy.index)/100*60)])]) #between 60 and 80% of data\n",
    "    X_test, y_test = create_X_and_y(Xy[Xy.index > Xy.index[int(len(Xy.index)/100*80)]]) #above 80% of data\n",
    "    return X_train, X_dev, X_test, y_train, y_dev, y_test\n",
    "\n",
    "X_train, X_dev, X_test, y_train, y_dev, y_test = split_into_train_dev_test(pd.DataFrame(data))"
   ]
  },
  {
   "cell_type": "code",
   "execution_count": 637,
   "metadata": {},
   "outputs": [],
   "source": [
    "y_dev_avg = np.ones(len(y_dev)) * y_train.mean()"
   ]
  },
  {
   "cell_type": "code",
   "execution_count": 638,
   "metadata": {},
   "outputs": [
    {
     "data": {
      "image/png": "[encoded data removed]",
      "text/plain": [
       "<Figure size 1296x576 with 1 Axes>"
      ]
     },
     "metadata": {
      "needs_background": "light"
     },
     "output_type": "display_data"
    }
   ],
   "source": [
    "def plot_prediction(X_train, y_train, X_dev, y_dev, y_dev_avg):\n",
    "    plt.plot(X_train, y_train, c=\"blue\", label='train data')\n",
    "    plt.plot(X_dev, y_dev, c=\"green\", label='dev data')\n",
    "    plt.plot(X_dev, y_dev_avg, c=\"orange\", label='prediction')\n",
    "    \n",
    "    plt.legend()\n",
    "    plt.show()\n",
    "    \n",
    "plot_prediction(X_train, y_train, X_dev, y_dev, y_dev_avg)"
   ]
  },
  {
   "cell_type": "code",
   "execution_count": 18,
   "metadata": {},
   "outputs": [
    {
     "name": "stdout",
     "output_type": "stream",
     "text": [
      "MSE:  452.29534301668247\n",
      "RMSE:  21.267236374684003\n"
     ]
    }
   ],
   "source": [
    "print(\"MSE: \" ,mean_squared_error(y_dev, y_dev_avg))\n",
    "print(\"RMSE: \", np.sqrt(mean_squared_error(y_dev, y_dev_avg)))"
   ]
  },
  {
   "cell_type": "markdown",
   "metadata": {},
   "source": [
    "#### ML: Random Forest"
   ]
  },
  {
   "cell_type": "code",
   "execution_count": 477,
   "metadata": {},
   "outputs": [],
   "source": [
    "data = clean_sales_allH.copy()"
   ]
  },
  {
   "cell_type": "code",
   "execution_count": 478,
   "metadata": {},
   "outputs": [
    {
     "data": {
      "text/html": [
       "<div>\n",
       "<style scoped>\n",
       "    .dataframe tbody tr th:only-of-type {\n",
       "        vertical-align: middle;\n",
       "    }\n",
       "\n",
       "    .dataframe tbody tr th {\n",
       "        vertical-align: top;\n",
       "    }\n",
       "\n",
       "    .dataframe thead th {\n",
       "        text-align: right;\n",
       "    }\n",
       "</style>\n",
       "<table border=\"1\" class=\"dataframe\">\n",
       "  <thead>\n",
       "    <tr style=\"text-align: right;\">\n",
       "      <th></th>\n",
       "      <th>Country</th>\n",
       "      <th>Holiday</th>\n",
       "      <th>Quantity</th>\n",
       "      <th>UnitPrice</th>\n",
       "      <th>Benefit</th>\n",
       "    </tr>\n",
       "    <tr>\n",
       "      <th>InvoiceDate</th>\n",
       "      <th></th>\n",
       "      <th></th>\n",
       "      <th></th>\n",
       "      <th></th>\n",
       "      <th></th>\n",
       "    </tr>\n",
       "  </thead>\n",
       "  <tbody>\n",
       "    <tr>\n",
       "      <th>2010-12-01</th>\n",
       "      <td>Australia</td>\n",
       "      <td>False</td>\n",
       "      <td>7.642857</td>\n",
       "      <td>5.278571</td>\n",
       "      <td>25.589286</td>\n",
       "    </tr>\n",
       "    <tr>\n",
       "      <th>2010-12-01</th>\n",
       "      <td>EIRE</td>\n",
       "      <td>False</td>\n",
       "      <td>11.571429</td>\n",
       "      <td>6.363810</td>\n",
       "      <td>26.446667</td>\n",
       "    </tr>\n",
       "    <tr>\n",
       "      <th>2010-12-01</th>\n",
       "      <td>France</td>\n",
       "      <td>False</td>\n",
       "      <td>23.473684</td>\n",
       "      <td>1.962632</td>\n",
       "      <td>42.203158</td>\n",
       "    </tr>\n",
       "    <tr>\n",
       "      <th>2010-12-01</th>\n",
       "      <td>Germany</td>\n",
       "      <td>False</td>\n",
       "      <td>11.142857</td>\n",
       "      <td>1.883571</td>\n",
       "      <td>17.391429</td>\n",
       "    </tr>\n",
       "    <tr>\n",
       "      <th>2010-12-01</th>\n",
       "      <td>Netherlands</td>\n",
       "      <td>False</td>\n",
       "      <td>96.000000</td>\n",
       "      <td>1.850000</td>\n",
       "      <td>177.600000</td>\n",
       "    </tr>\n",
       "  </tbody>\n",
       "</table>\n",
       "</div>"
      ],
      "text/plain": [
       "                 Country  Holiday   Quantity  UnitPrice     Benefit\n",
       "InvoiceDate                                                        \n",
       "2010-12-01     Australia    False   7.642857   5.278571   25.589286\n",
       "2010-12-01          EIRE    False  11.571429   6.363810   26.446667\n",
       "2010-12-01        France    False  23.473684   1.962632   42.203158\n",
       "2010-12-01       Germany    False  11.142857   1.883571   17.391429\n",
       "2010-12-01   Netherlands    False  96.000000   1.850000  177.600000"
      ]
     },
     "execution_count": 478,
     "metadata": {},
     "output_type": "execute_result"
    }
   ],
   "source": [
    "data.head()"
   ]
  },
  {
   "cell_type": "code",
   "execution_count": 479,
   "metadata": {},
   "outputs": [],
   "source": [
    "data.drop([\"Quantity\", \"UnitPrice\"], axis = 1, inplace = True)"
   ]
  },
  {
   "cell_type": "code",
   "execution_count": 480,
   "metadata": {},
   "outputs": [],
   "source": [
    "#one hot encoding on countries. 36 countries, might generate excesive sparsity. \n",
    "#Would be interesting to try the model w/o this step\n",
    "data = pd.get_dummies(data)"
   ]
  },
  {
   "cell_type": "code",
   "execution_count": 481,
   "metadata": {},
   "outputs": [],
   "source": [
    "#not every day listed. data is grouped by day (avg on data). \n",
    "#NaN values swiched to 0, as it would have if no sales were made that day\n",
    "data = data.resample(\"D\").mean()\n",
    "data.fillna(0, inplace=True)"
   ]
  },
  {
   "cell_type": "code",
   "execution_count": 482,
   "metadata": {},
   "outputs": [],
   "source": [
    "#create extra data columns\n",
    "data[\"day\"] = data.index.day\n",
    "data[\"month\"] = data.index.month\n",
    "data[\"year\"] = data.index.year\n",
    "data[\"week\"] = data.index.weekofyear\n",
    "data[\"weekday\"] = data.index.dayofweek"
   ]
  },
  {
   "cell_type": "code",
   "execution_count": 483,
   "metadata": {},
   "outputs": [
    {
     "data": {
      "text/html": [
       "<div>\n",
       "<style scoped>\n",
       "    .dataframe tbody tr th:only-of-type {\n",
       "        vertical-align: middle;\n",
       "    }\n",
       "\n",
       "    .dataframe tbody tr th {\n",
       "        vertical-align: top;\n",
       "    }\n",
       "\n",
       "    .dataframe thead th {\n",
       "        text-align: right;\n",
       "    }\n",
       "</style>\n",
       "<table border=\"1\" class=\"dataframe\">\n",
       "  <thead>\n",
       "    <tr style=\"text-align: right;\">\n",
       "      <th></th>\n",
       "      <th>Holiday</th>\n",
       "      <th>Benefit</th>\n",
       "      <th>Country_Australia</th>\n",
       "      <th>Country_Austria</th>\n",
       "      <th>Country_Bahrain</th>\n",
       "      <th>Country_Belgium</th>\n",
       "      <th>Country_Brazil</th>\n",
       "      <th>Country_Canada</th>\n",
       "      <th>Country_Channel Islands</th>\n",
       "      <th>Country_Cyprus</th>\n",
       "      <th>...</th>\n",
       "      <th>Country_Sweden</th>\n",
       "      <th>Country_Switzerland</th>\n",
       "      <th>Country_USA</th>\n",
       "      <th>Country_United Arab Emirates</th>\n",
       "      <th>Country_United Kingdom</th>\n",
       "      <th>day</th>\n",
       "      <th>month</th>\n",
       "      <th>year</th>\n",
       "      <th>week</th>\n",
       "      <th>weekday</th>\n",
       "    </tr>\n",
       "    <tr>\n",
       "      <th>InvoiceDate</th>\n",
       "      <th></th>\n",
       "      <th></th>\n",
       "      <th></th>\n",
       "      <th></th>\n",
       "      <th></th>\n",
       "      <th></th>\n",
       "      <th></th>\n",
       "      <th></th>\n",
       "      <th></th>\n",
       "      <th></th>\n",
       "      <th></th>\n",
       "      <th></th>\n",
       "      <th></th>\n",
       "      <th></th>\n",
       "      <th></th>\n",
       "      <th></th>\n",
       "      <th></th>\n",
       "      <th></th>\n",
       "      <th></th>\n",
       "      <th></th>\n",
       "      <th></th>\n",
       "    </tr>\n",
       "  </thead>\n",
       "  <tbody>\n",
       "    <tr>\n",
       "      <th>2010-12-01</th>\n",
       "      <td>0.0</td>\n",
       "      <td>47.686885</td>\n",
       "      <td>0.142857</td>\n",
       "      <td>0.0</td>\n",
       "      <td>0.0</td>\n",
       "      <td>0.0</td>\n",
       "      <td>0.0</td>\n",
       "      <td>0.0</td>\n",
       "      <td>0.0</td>\n",
       "      <td>0.0</td>\n",
       "      <td>...</td>\n",
       "      <td>0.0</td>\n",
       "      <td>0.0</td>\n",
       "      <td>0.0</td>\n",
       "      <td>0.0</td>\n",
       "      <td>0.142857</td>\n",
       "      <td>1</td>\n",
       "      <td>12</td>\n",
       "      <td>2010</td>\n",
       "      <td>48</td>\n",
       "      <td>2</td>\n",
       "    </tr>\n",
       "    <tr>\n",
       "      <th>2010-12-02</th>\n",
       "      <td>0.0</td>\n",
       "      <td>19.807170</td>\n",
       "      <td>0.000000</td>\n",
       "      <td>0.0</td>\n",
       "      <td>0.0</td>\n",
       "      <td>0.0</td>\n",
       "      <td>0.0</td>\n",
       "      <td>0.0</td>\n",
       "      <td>0.0</td>\n",
       "      <td>0.0</td>\n",
       "      <td>...</td>\n",
       "      <td>0.0</td>\n",
       "      <td>0.0</td>\n",
       "      <td>0.0</td>\n",
       "      <td>0.0</td>\n",
       "      <td>0.333333</td>\n",
       "      <td>2</td>\n",
       "      <td>12</td>\n",
       "      <td>2010</td>\n",
       "      <td>48</td>\n",
       "      <td>3</td>\n",
       "    </tr>\n",
       "    <tr>\n",
       "      <th>2010-12-03</th>\n",
       "      <td>0.0</td>\n",
       "      <td>35.536370</td>\n",
       "      <td>0.000000</td>\n",
       "      <td>0.0</td>\n",
       "      <td>0.0</td>\n",
       "      <td>0.1</td>\n",
       "      <td>0.0</td>\n",
       "      <td>0.0</td>\n",
       "      <td>0.0</td>\n",
       "      <td>0.0</td>\n",
       "      <td>...</td>\n",
       "      <td>0.0</td>\n",
       "      <td>0.1</td>\n",
       "      <td>0.0</td>\n",
       "      <td>0.0</td>\n",
       "      <td>0.100000</td>\n",
       "      <td>3</td>\n",
       "      <td>12</td>\n",
       "      <td>2010</td>\n",
       "      <td>48</td>\n",
       "      <td>4</td>\n",
       "    </tr>\n",
       "    <tr>\n",
       "      <th>2010-12-04</th>\n",
       "      <td>0.0</td>\n",
       "      <td>0.000000</td>\n",
       "      <td>0.000000</td>\n",
       "      <td>0.0</td>\n",
       "      <td>0.0</td>\n",
       "      <td>0.0</td>\n",
       "      <td>0.0</td>\n",
       "      <td>0.0</td>\n",
       "      <td>0.0</td>\n",
       "      <td>0.0</td>\n",
       "      <td>...</td>\n",
       "      <td>0.0</td>\n",
       "      <td>0.0</td>\n",
       "      <td>0.0</td>\n",
       "      <td>0.0</td>\n",
       "      <td>0.000000</td>\n",
       "      <td>4</td>\n",
       "      <td>12</td>\n",
       "      <td>2010</td>\n",
       "      <td>48</td>\n",
       "      <td>5</td>\n",
       "    </tr>\n",
       "    <tr>\n",
       "      <th>2010-12-05</th>\n",
       "      <td>0.0</td>\n",
       "      <td>23.763326</td>\n",
       "      <td>0.000000</td>\n",
       "      <td>0.0</td>\n",
       "      <td>0.0</td>\n",
       "      <td>0.0</td>\n",
       "      <td>0.0</td>\n",
       "      <td>0.0</td>\n",
       "      <td>0.0</td>\n",
       "      <td>0.0</td>\n",
       "      <td>...</td>\n",
       "      <td>0.0</td>\n",
       "      <td>0.0</td>\n",
       "      <td>0.0</td>\n",
       "      <td>0.0</td>\n",
       "      <td>0.200000</td>\n",
       "      <td>5</td>\n",
       "      <td>12</td>\n",
       "      <td>2010</td>\n",
       "      <td>48</td>\n",
       "      <td>6</td>\n",
       "    </tr>\n",
       "  </tbody>\n",
       "</table>\n",
       "<p>5 rows × 43 columns</p>\n",
       "</div>"
      ],
      "text/plain": [
       "             Holiday    Benefit  Country_Australia  Country_Austria  \\\n",
       "InvoiceDate                                                           \n",
       "2010-12-01       0.0  47.686885           0.142857              0.0   \n",
       "2010-12-02       0.0  19.807170           0.000000              0.0   \n",
       "2010-12-03       0.0  35.536370           0.000000              0.0   \n",
       "2010-12-04       0.0   0.000000           0.000000              0.0   \n",
       "2010-12-05       0.0  23.763326           0.000000              0.0   \n",
       "\n",
       "             Country_Bahrain  Country_Belgium  Country_Brazil  Country_Canada  \\\n",
       "InvoiceDate                                                                     \n",
       "2010-12-01               0.0              0.0             0.0             0.0   \n",
       "2010-12-02               0.0              0.0             0.0             0.0   \n",
       "2010-12-03               0.0              0.1             0.0             0.0   \n",
       "2010-12-04               0.0              0.0             0.0             0.0   \n",
       "2010-12-05               0.0              0.0             0.0             0.0   \n",
       "\n",
       "             Country_Channel Islands  Country_Cyprus   ...     Country_Sweden  \\\n",
       "InvoiceDate                                            ...                      \n",
       "2010-12-01                       0.0             0.0   ...                0.0   \n",
       "2010-12-02                       0.0             0.0   ...                0.0   \n",
       "2010-12-03                       0.0             0.0   ...                0.0   \n",
       "2010-12-04                       0.0             0.0   ...                0.0   \n",
       "2010-12-05                       0.0             0.0   ...                0.0   \n",
       "\n",
       "             Country_Switzerland  Country_USA  Country_United Arab Emirates  \\\n",
       "InvoiceDate                                                                   \n",
       "2010-12-01                   0.0          0.0                           0.0   \n",
       "2010-12-02                   0.0          0.0                           0.0   \n",
       "2010-12-03                   0.1          0.0                           0.0   \n",
       "2010-12-04                   0.0          0.0                           0.0   \n",
       "2010-12-05                   0.0          0.0                           0.0   \n",
       "\n",
       "             Country_United Kingdom  day  month  year  week  weekday  \n",
       "InvoiceDate                                                           \n",
       "2010-12-01                 0.142857    1     12  2010    48        2  \n",
       "2010-12-02                 0.333333    2     12  2010    48        3  \n",
       "2010-12-03                 0.100000    3     12  2010    48        4  \n",
       "2010-12-04                 0.000000    4     12  2010    48        5  \n",
       "2010-12-05                 0.200000    5     12  2010    48        6  \n",
       "\n",
       "[5 rows x 43 columns]"
      ]
     },
     "execution_count": 483,
     "metadata": {},
     "output_type": "execute_result"
    }
   ],
   "source": [
    "data.head()"
   ]
  },
  {
   "cell_type": "code",
   "execution_count": 484,
   "metadata": {},
   "outputs": [],
   "source": [
    "y = data[\"Benefit\"]\n",
    "X = data[['Holiday', 'day', 'month', 'year', 'week', 'weekday',\n",
    "       'Country_Australia', 'Country_Austria', 'Country_Bahrain',\n",
    "       'Country_Belgium', 'Country_Brazil', 'Country_Canada',\n",
    "       'Country_Channel Islands', 'Country_Cyprus', 'Country_Czech Republic',\n",
    "       'Country_Denmark', 'Country_EIRE', 'Country_Finland', 'Country_France',\n",
    "       'Country_Germany', 'Country_Greece', 'Country_Hong Kong',\n",
    "       'Country_Iceland', 'Country_Israel', 'Country_Italy', 'Country_Japan',\n",
    "       'Country_Lebanon', 'Country_Lithuania', 'Country_Malta',\n",
    "       'Country_Netherlands', 'Country_Norway', 'Country_Poland',\n",
    "       'Country_Portugal', 'Country_RSA', 'Country_Saudi Arabia',\n",
    "       'Country_Singapore', 'Country_Spain', 'Country_Sweden',\n",
    "       'Country_Switzerland', 'Country_USA', 'Country_United Arab Emirates',\n",
    "       'Country_United Kingdom']]\n"
   ]
  },
  {
   "cell_type": "code",
   "execution_count": 488,
   "metadata": {},
   "outputs": [],
   "source": [
    "train_x, test_x, train_y, test_y = train_test_split(np.array(X), y,test_size = 0.4, shuffle = False)"
   ]
  },
  {
   "cell_type": "code",
   "execution_count": 490,
   "metadata": {},
   "outputs": [],
   "source": [
    "dev_x, test_x, dev_y, test_y = train_test_split(test_x, test_y,test_size = 0.5, shuffle = False)"
   ]
  },
  {
   "cell_type": "code",
   "execution_count": 492,
   "metadata": {},
   "outputs": [
    {
     "name": "stdout",
     "output_type": "stream",
     "text": [
      "(224, 42)\n",
      "(224,)\n",
      "(75, 42)\n",
      "(75,)\n",
      "(75, 42)\n",
      "(75,)\n"
     ]
    },
    {
     "data": {
      "text/plain": [
       "[None, None, None, None, None, None]"
      ]
     },
     "execution_count": 492,
     "metadata": {},
     "output_type": "execute_result"
    }
   ],
   "source": [
    "[print(i.shape) for i in [train_x, train_y, dev_x, dev_y, test_x, test_y]]"
   ]
  },
  {
   "cell_type": "code",
   "execution_count": 493,
   "metadata": {},
   "outputs": [],
   "source": [
    "from sklearn.ensemble import RandomForestRegressor\n",
    "rf_model = RandomForestRegressor(n_estimators = 1000, random_state = 42)"
   ]
  },
  {
   "cell_type": "code",
   "execution_count": 494,
   "metadata": {},
   "outputs": [
    {
     "data": {
      "text/plain": [
       "RandomForestRegressor(bootstrap=True, criterion='mse', max_depth=None,\n",
       "           max_features='auto', max_leaf_nodes=None,\n",
       "           min_impurity_decrease=0.0, min_impurity_split=None,\n",
       "           min_samples_leaf=1, min_samples_split=2,\n",
       "           min_weight_fraction_leaf=0.0, n_estimators=1000, n_jobs=None,\n",
       "           oob_score=False, random_state=42, verbose=0, warm_start=False)"
      ]
     },
     "execution_count": 494,
     "metadata": {},
     "output_type": "execute_result"
    }
   ],
   "source": [
    "rf_model.fit(train_x, train_y)"
   ]
  },
  {
   "cell_type": "code",
   "execution_count": 495,
   "metadata": {},
   "outputs": [],
   "source": [
    "pred_y = rf_model.predict(dev_x)"
   ]
  },
  {
   "cell_type": "code",
   "execution_count": 500,
   "metadata": {},
   "outputs": [
    {
     "name": "stdout",
     "output_type": "stream",
     "text": [
      "MSE:  854.0774701173513\n",
      "RMSE:  29.22460384876673\n"
     ]
    }
   ],
   "source": [
    "print(\"MSE: \" ,mean_squared_error(dev_y, pred_y))\n",
    "print(\"RMSE: \", np.sqrt(mean_squared_error(dev_y, pred_y)))"
   ]
  },
  {
   "cell_type": "code",
   "execution_count": 501,
   "metadata": {},
   "outputs": [
    {
     "name": "stdout",
     "output_type": "stream",
     "text": [
      "Mean Absolute Error: 14.93\n"
     ]
    }
   ],
   "source": [
    "errors = abs(pred_y - dev_y)\n",
    "print('Mean Absolute Error:', round(np.mean(errors), 2))"
   ]
  },
  {
   "cell_type": "code",
   "execution_count": 506,
   "metadata": {},
   "outputs": [
    {
     "name": "stdout",
     "output_type": "stream",
     "text": [
      "Accuracy: 44.77 %.\n"
     ]
    }
   ],
   "source": [
    "# Calculate mean absolute percentage error (MAPE)\n",
    "mape = 100 * (errors / dev_y)\n",
    "# Calculate and display accuracy\n",
    "accuracy = 100 - np.mean(mape)\n",
    "print('Accuracy:', round(accuracy, 2), '%.')\n"
   ]
  },
  {
   "cell_type": "markdown",
   "metadata": {},
   "source": [
    "**linear regresion**"
   ]
  },
  {
   "cell_type": "code",
   "execution_count": 534,
   "metadata": {},
   "outputs": [],
   "source": [
    "from sklearn.linear_model import LinearRegression"
   ]
  },
  {
   "cell_type": "code",
   "execution_count": 535,
   "metadata": {},
   "outputs": [],
   "source": [
    "data = clean_sales_allH[\"Benefit\"].resample('D').mean()\n",
    "data.fillna(0, inplace = True)\n",
    "data = data.reset_index()"
   ]
  },
  {
   "cell_type": "code",
   "execution_count": 536,
   "metadata": {},
   "outputs": [],
   "source": [
    "import numpy as np\n",
    "from sklearn.model_selection import train_test_split"
   ]
  },
  {
   "cell_type": "code",
   "execution_count": 572,
   "metadata": {},
   "outputs": [],
   "source": [
    "def create_X_and_y(Xy, target_column='Benefit'):\n",
    "    return Xy.index, Xy[target_column]\n",
    "\n",
    "def split_into_train_dev_test(Xy):\n",
    "    X_train, y_train = create_X_and_y(Xy[Xy.index < Xy.index[int(len(Xy.index)/100*60)]]) #60% of data\n",
    "    X_dev, y_dev = create_X_and_y(Xy[(Xy.index < Xy.index[int(len(Xy.index)/100*80)]) \n",
    "                                     & (Xy.index > Xy.index[int(len(Xy.index)/100*60)])]) #between 60 and 80% of data\n",
    "    X_test, y_test = create_X_and_y(Xy[Xy.index > Xy.index[int(len(Xy.index)/100*80)]]) #above 80% of data\n",
    "    return X_train, X_dev, X_test, y_train, y_dev, y_test\n",
    "\n",
    "X_train, X_dev, X_test, y_train, y_dev, y_test = split_into_train_dev_test(pd.DataFrame(data))"
   ]
  },
  {
   "cell_type": "code",
   "execution_count": 573,
   "metadata": {},
   "outputs": [],
   "source": [
    "X_train = np.array(data.index[data.index < data.index[int(len(data.index)/100*60)]]).reshape(-1,1)"
   ]
  },
  {
   "cell_type": "code",
   "execution_count": 574,
   "metadata": {},
   "outputs": [],
   "source": [
    "y_Train = np.array(data.Benefit[data.index < data.index[int(len(data.index)/100*60)]]).reshape(-1,1)"
   ]
  },
  {
   "cell_type": "code",
   "execution_count": 515,
   "metadata": {},
   "outputs": [
    {
     "data": {
      "text/plain": [
       "LinearRegression(copy_X=True, fit_intercept=True, n_jobs=None,\n",
       "         normalize=False)"
      ]
     },
     "execution_count": 515,
     "metadata": {},
     "output_type": "execute_result"
    }
   ],
   "source": [
    "lr_model = LinearRegression()\n",
    "lr_model.fit(X_train, y_train)"
   ]
  },
  {
   "cell_type": "code",
   "execution_count": 516,
   "metadata": {},
   "outputs": [],
   "source": [
    "pred_y = lr_model.predict(np.array(X_dev).astype('float64').reshape(-1,1))"
   ]
  },
  {
   "cell_type": "code",
   "execution_count": 517,
   "metadata": {},
   "outputs": [
    {
     "name": "stdout",
     "output_type": "stream",
     "text": [
      "MSE:  538.77498018061\n",
      "RMSE:  23.211526881715688\n"
     ]
    }
   ],
   "source": [
    "print(\"MSE: \" ,mean_squared_error(y_dev, pred_y))\n",
    "print(\"RMSE: \", np.sqrt(mean_squared_error(y_dev, pred_y)))"
   ]
  },
  {
   "cell_type": "code",
   "execution_count": 518,
   "metadata": {},
   "outputs": [
    {
     "data": {
      "image/png": "[encoded data removed]",
      "text/plain": [
       "<Figure size 1296x576 with 1 Axes>"
      ]
     },
     "metadata": {
      "needs_background": "light"
     },
     "output_type": "display_data"
    }
   ],
   "source": [
    "plot_prediction(X_train, y_train, X_dev, y_dev, pred_y)"
   ]
  },
  {
   "cell_type": "markdown",
   "metadata": {},
   "source": [
    "at this point we should use test data to tune hiperparameters"
   ]
  },
  {
   "cell_type": "markdown",
   "metadata": {},
   "source": [
    "**Polinomial regresion**"
   ]
  },
  {
   "cell_type": "code",
   "execution_count": 575,
   "metadata": {},
   "outputs": [],
   "source": [
    "from sklearn.preprocessing import PolynomialFeatures \n",
    "  \n",
    "poly_model = PolynomialFeatures(degree = 4) \n",
    "X_poly = poly_model.fit_transform(X_train) "
   ]
  },
  {
   "cell_type": "code",
   "execution_count": 576,
   "metadata": {},
   "outputs": [
    {
     "data": {
      "text/plain": [
       "LinearRegression(copy_X=True, fit_intercept=True, n_jobs=None,\n",
       "         normalize=False)"
      ]
     },
     "execution_count": 576,
     "metadata": {},
     "output_type": "execute_result"
    }
   ],
   "source": [
    "lr_model2 = LinearRegression()\n",
    "lr_model2.fit(X_poly, y_train)"
   ]
  },
  {
   "cell_type": "code",
   "execution_count": 577,
   "metadata": {},
   "outputs": [],
   "source": [
    "y_poly_pred = model.predict(np.array(X_dev).reshape(-1,1))\n",
    "#to be finished"
   ]
  },
  {
   "cell_type": "markdown",
   "metadata": {},
   "source": [
    "2.2 Time Series decomposition"
   ]
  },
  {
   "cell_type": "code",
   "execution_count": 579,
   "metadata": {},
   "outputs": [],
   "source": [
    "#some dates dont have data at this point, so we set to 0 as if any valid purchase was done that day\n",
    "data = clean_sales_allH[\"Benefit\"].resample('D').mean()"
   ]
  },
  {
   "cell_type": "code",
   "execution_count": 580,
   "metadata": {},
   "outputs": [],
   "source": [
    "data.fillna(0, inplace = True)"
   ]
  },
  {
   "cell_type": "code",
   "execution_count": 581,
   "metadata": {
    "scrolled": true
   },
   "outputs": [
    {
     "data": {
      "image/png": "[encoded data removed]",
      "text/plain": [
       "<Figure size 1080x432 with 1 Axes>"
      ]
     },
     "metadata": {
      "needs_background": "light"
     },
     "output_type": "display_data"
    }
   ],
   "source": [
    "data.plot(figsize=(15, 6))\n",
    "plt.show()"
   ]
  },
  {
   "cell_type": "code",
   "execution_count": 24,
   "metadata": {},
   "outputs": [
    {
     "data": {
      "image/png": "[encoded data removed]",
      "text/plain": [
       "<Figure size 1296x576 with 4 Axes>"
      ]
     },
     "metadata": {
      "needs_background": "light"
     },
     "output_type": "display_data"
    }
   ],
   "source": [
    "#Time series decomposition\n",
    "import statsmodels.api as sm\n",
    "decomposition = sm.tsa.seasonal_decompose(data, model='additive')\n",
    "fig = decomposition.plot()\n",
    "plt.show()"
   ]
  },
  {
   "cell_type": "markdown",
   "metadata": {},
   "source": [
    "### Next Steps\n",
    "* Weekly lags"
   ]
  },
  {
   "cell_type": "code",
   "execution_count": 584,
   "metadata": {},
   "outputs": [],
   "source": [
    "data = clean_sales_allH.resample(\"D\").mean()"
   ]
  },
  {
   "cell_type": "code",
   "execution_count": 586,
   "metadata": {},
   "outputs": [],
   "source": [
    "data.fillna(0, inplace=True)"
   ]
  },
  {
   "cell_type": "code",
   "execution_count": null,
   "metadata": {},
   "outputs": [],
   "source": [
    "data.drop([\"Quantity\", \"UnitPrice\"], axis=1, inplace=True)"
   ]
  },
  {
   "cell_type": "code",
   "execution_count": 596,
   "metadata": {},
   "outputs": [],
   "source": [
    "data.sort_index(inplace = True)"
   ]
  },
  {
   "cell_type": "code",
   "execution_count": 597,
   "metadata": {},
   "outputs": [
    {
     "data": {
      "text/html": [
       "<div>\n",
       "<style scoped>\n",
       "    .dataframe tbody tr th:only-of-type {\n",
       "        vertical-align: middle;\n",
       "    }\n",
       "\n",
       "    .dataframe tbody tr th {\n",
       "        vertical-align: top;\n",
       "    }\n",
       "\n",
       "    .dataframe thead th {\n",
       "        text-align: right;\n",
       "    }\n",
       "</style>\n",
       "<table border=\"1\" class=\"dataframe\">\n",
       "  <thead>\n",
       "    <tr style=\"text-align: right;\">\n",
       "      <th></th>\n",
       "      <th>Holiday</th>\n",
       "      <th>Benefit</th>\n",
       "    </tr>\n",
       "    <tr>\n",
       "      <th>InvoiceDate</th>\n",
       "      <th></th>\n",
       "      <th></th>\n",
       "    </tr>\n",
       "  </thead>\n",
       "  <tbody>\n",
       "    <tr>\n",
       "      <th>2010-12-01</th>\n",
       "      <td>0.0</td>\n",
       "      <td>47.686885</td>\n",
       "    </tr>\n",
       "    <tr>\n",
       "      <th>2010-12-02</th>\n",
       "      <td>0.0</td>\n",
       "      <td>19.807170</td>\n",
       "    </tr>\n",
       "    <tr>\n",
       "      <th>2010-12-03</th>\n",
       "      <td>0.0</td>\n",
       "      <td>35.536370</td>\n",
       "    </tr>\n",
       "    <tr>\n",
       "      <th>2010-12-04</th>\n",
       "      <td>0.0</td>\n",
       "      <td>0.000000</td>\n",
       "    </tr>\n",
       "    <tr>\n",
       "      <th>2010-12-05</th>\n",
       "      <td>0.0</td>\n",
       "      <td>23.763326</td>\n",
       "    </tr>\n",
       "  </tbody>\n",
       "</table>\n",
       "</div>"
      ],
      "text/plain": [
       "             Holiday    Benefit\n",
       "InvoiceDate                    \n",
       "2010-12-01       0.0  47.686885\n",
       "2010-12-02       0.0  19.807170\n",
       "2010-12-03       0.0  35.536370\n",
       "2010-12-04       0.0   0.000000\n",
       "2010-12-05       0.0  23.763326"
      ]
     },
     "execution_count": 597,
     "metadata": {},
     "output_type": "execute_result"
    }
   ],
   "source": [
    "data.head()"
   ]
  },
  {
   "cell_type": "code",
   "execution_count": 601,
   "metadata": {},
   "outputs": [
    {
     "data": {
      "text/html": [
       "<div>\n",
       "<style scoped>\n",
       "    .dataframe tbody tr th:only-of-type {\n",
       "        vertical-align: middle;\n",
       "    }\n",
       "\n",
       "    .dataframe tbody tr th {\n",
       "        vertical-align: top;\n",
       "    }\n",
       "\n",
       "    .dataframe thead th {\n",
       "        text-align: right;\n",
       "    }\n",
       "</style>\n",
       "<table border=\"1\" class=\"dataframe\">\n",
       "  <thead>\n",
       "    <tr style=\"text-align: right;\">\n",
       "      <th></th>\n",
       "      <th>Holiday</th>\n",
       "      <th>Benefit</th>\n",
       "      <th>Benefit-1</th>\n",
       "      <th>Benefit-2</th>\n",
       "      <th>Benefit-3</th>\n",
       "      <th>Benefit-4</th>\n",
       "      <th>Benefit-5</th>\n",
       "      <th>Benefit-6</th>\n",
       "      <th>Benefit-7</th>\n",
       "    </tr>\n",
       "    <tr>\n",
       "      <th>InvoiceDate</th>\n",
       "      <th></th>\n",
       "      <th></th>\n",
       "      <th></th>\n",
       "      <th></th>\n",
       "      <th></th>\n",
       "      <th></th>\n",
       "      <th></th>\n",
       "      <th></th>\n",
       "      <th></th>\n",
       "    </tr>\n",
       "  </thead>\n",
       "  <tbody>\n",
       "    <tr>\n",
       "      <th>2010-12-08</th>\n",
       "      <td>0.0</td>\n",
       "      <td>33.994360</td>\n",
       "      <td>26.306367</td>\n",
       "      <td>19.228582</td>\n",
       "      <td>23.763326</td>\n",
       "      <td>0.000000</td>\n",
       "      <td>35.536370</td>\n",
       "      <td>19.807170</td>\n",
       "      <td>47.686885</td>\n",
       "    </tr>\n",
       "    <tr>\n",
       "      <th>2010-12-09</th>\n",
       "      <td>0.0</td>\n",
       "      <td>443.281183</td>\n",
       "      <td>33.994360</td>\n",
       "      <td>26.306367</td>\n",
       "      <td>19.228582</td>\n",
       "      <td>23.763326</td>\n",
       "      <td>0.000000</td>\n",
       "      <td>35.536370</td>\n",
       "      <td>19.807170</td>\n",
       "    </tr>\n",
       "    <tr>\n",
       "      <th>2010-12-10</th>\n",
       "      <td>0.0</td>\n",
       "      <td>33.392378</td>\n",
       "      <td>443.281183</td>\n",
       "      <td>33.994360</td>\n",
       "      <td>26.306367</td>\n",
       "      <td>19.228582</td>\n",
       "      <td>23.763326</td>\n",
       "      <td>0.000000</td>\n",
       "      <td>35.536370</td>\n",
       "    </tr>\n",
       "    <tr>\n",
       "      <th>2010-12-11</th>\n",
       "      <td>0.0</td>\n",
       "      <td>0.000000</td>\n",
       "      <td>33.392378</td>\n",
       "      <td>443.281183</td>\n",
       "      <td>33.994360</td>\n",
       "      <td>26.306367</td>\n",
       "      <td>19.228582</td>\n",
       "      <td>23.763326</td>\n",
       "      <td>0.000000</td>\n",
       "    </tr>\n",
       "    <tr>\n",
       "      <th>2010-12-12</th>\n",
       "      <td>0.0</td>\n",
       "      <td>42.340326</td>\n",
       "      <td>0.000000</td>\n",
       "      <td>33.392378</td>\n",
       "      <td>443.281183</td>\n",
       "      <td>33.994360</td>\n",
       "      <td>26.306367</td>\n",
       "      <td>19.228582</td>\n",
       "      <td>23.763326</td>\n",
       "    </tr>\n",
       "  </tbody>\n",
       "</table>\n",
       "</div>"
      ],
      "text/plain": [
       "             Holiday     Benefit   Benefit-1   Benefit-2   Benefit-3  \\\n",
       "InvoiceDate                                                            \n",
       "2010-12-08       0.0   33.994360   26.306367   19.228582   23.763326   \n",
       "2010-12-09       0.0  443.281183   33.994360   26.306367   19.228582   \n",
       "2010-12-10       0.0   33.392378  443.281183   33.994360   26.306367   \n",
       "2010-12-11       0.0    0.000000   33.392378  443.281183   33.994360   \n",
       "2010-12-12       0.0   42.340326    0.000000   33.392378  443.281183   \n",
       "\n",
       "             Benefit-4  Benefit-5  Benefit-6  Benefit-7  \n",
       "InvoiceDate                                              \n",
       "2010-12-08    0.000000  35.536370  19.807170  47.686885  \n",
       "2010-12-09   23.763326   0.000000  35.536370  19.807170  \n",
       "2010-12-10   19.228582  23.763326   0.000000  35.536370  \n",
       "2010-12-11   26.306367  19.228582  23.763326   0.000000  \n",
       "2010-12-12   33.994360  26.306367  19.228582  23.763326  "
      ]
     },
     "execution_count": 601,
     "metadata": {},
     "output_type": "execute_result"
    }
   ],
   "source": [
    "N_lags = 7 #weekly trend as seen in time series decomposition\n",
    "\n",
    "def create_lags(Xy, n_lags):\n",
    "    Xy_with_lags = Xy.copy()\n",
    "    for i in range(1, n_lags+1):\n",
    "        Xy_with_lags['Benefit-'+str(i)] = Xy_with_lags['Benefit'].shift(i)\n",
    "    return Xy_with_lags\n",
    "\n",
    "Xy_with_lags = create_lags(data, N_lags).iloc[N_lags:]\n",
    "Xy_with_lags.head()"
   ]
  },
  {
   "cell_type": "code",
   "execution_count": 607,
   "metadata": {},
   "outputs": [],
   "source": [
    "#moving average (7 day week)\n",
    "Xy_with_lags['mean'] = Xy_with_lags.drop([\"Benefit-7\"], axis = 1).mean(axis=1)\n",
    "\n",
    "#Benefits W/o Seasonality\n",
    "Xy_with_lags['seasonal'] = Xy_with_lags[\"Benefit\"] - Xy_with_lags[\"mean\"]"
   ]
  },
  {
   "cell_type": "code",
   "execution_count": 608,
   "metadata": {},
   "outputs": [
    {
     "data": {
      "text/plain": [
       "Text(0.5, 1.0, 'weekly average rolling window')"
      ]
     },
     "execution_count": 608,
     "metadata": {},
     "output_type": "execute_result"
    },
    {
     "data": {
      "image/png": "[encoded data removed]",
      "text/plain": [
       "<Figure size 1296x576 with 1 Axes>"
      ]
     },
     "metadata": {
      "needs_background": "light"
     },
     "output_type": "display_data"
    }
   ],
   "source": [
    "plt.plot(Xy_with_lags.index, Xy_with_lags[\"Benefit\"])\n",
    "plt.plot(Xy_with_lags.index, Xy_with_lags[\"mean\"],color=\"red\")\n",
    "plt.title(\"weekly average rolling window\",size=20)"
   ]
  },
  {
   "cell_type": "code",
   "execution_count": 609,
   "metadata": {},
   "outputs": [],
   "source": [
    "Xy_with_lags[\"day\"] = Xy_with_lags.index.day\n",
    "Xy_with_lags[\"month\"] = Xy_with_lags.index.month\n",
    "Xy_with_lags[\"year\"] = Xy_with_lags.index.year\n",
    "Xy_with_lags[\"week\"] = Xy_with_lags.index.weekofyear\n",
    "Xy_with_lags[\"weekday\"] = Xy_with_lags.index.dayofweek"
   ]
  },
  {
   "cell_type": "code",
   "execution_count": 611,
   "metadata": {
    "scrolled": true
   },
   "outputs": [
    {
     "data": {
      "text/html": [
       "<div>\n",
       "<style scoped>\n",
       "    .dataframe tbody tr th:only-of-type {\n",
       "        vertical-align: middle;\n",
       "    }\n",
       "\n",
       "    .dataframe tbody tr th {\n",
       "        vertical-align: top;\n",
       "    }\n",
       "\n",
       "    .dataframe thead th {\n",
       "        text-align: right;\n",
       "    }\n",
       "</style>\n",
       "<table border=\"1\" class=\"dataframe\">\n",
       "  <thead>\n",
       "    <tr style=\"text-align: right;\">\n",
       "      <th></th>\n",
       "      <th>Holiday</th>\n",
       "      <th>Benefit</th>\n",
       "      <th>Benefit-1</th>\n",
       "      <th>Benefit-2</th>\n",
       "      <th>Benefit-3</th>\n",
       "      <th>Benefit-4</th>\n",
       "      <th>Benefit-5</th>\n",
       "      <th>Benefit-6</th>\n",
       "      <th>Benefit-7</th>\n",
       "      <th>mean</th>\n",
       "      <th>seasonal</th>\n",
       "      <th>day</th>\n",
       "      <th>month</th>\n",
       "      <th>year</th>\n",
       "      <th>week</th>\n",
       "      <th>weekday</th>\n",
       "    </tr>\n",
       "    <tr>\n",
       "      <th>InvoiceDate</th>\n",
       "      <th></th>\n",
       "      <th></th>\n",
       "      <th></th>\n",
       "      <th></th>\n",
       "      <th></th>\n",
       "      <th></th>\n",
       "      <th></th>\n",
       "      <th></th>\n",
       "      <th></th>\n",
       "      <th></th>\n",
       "      <th></th>\n",
       "      <th></th>\n",
       "      <th></th>\n",
       "      <th></th>\n",
       "      <th></th>\n",
       "      <th></th>\n",
       "    </tr>\n",
       "  </thead>\n",
       "  <tbody>\n",
       "    <tr>\n",
       "      <th>2010-12-08</th>\n",
       "      <td>0.0</td>\n",
       "      <td>33.994360</td>\n",
       "      <td>26.306367</td>\n",
       "      <td>19.228582</td>\n",
       "      <td>23.763326</td>\n",
       "      <td>0.000000</td>\n",
       "      <td>35.536370</td>\n",
       "      <td>19.807170</td>\n",
       "      <td>47.686885</td>\n",
       "      <td>20.173440</td>\n",
       "      <td>13.820920</td>\n",
       "      <td>8</td>\n",
       "      <td>12</td>\n",
       "      <td>2010</td>\n",
       "      <td>49</td>\n",
       "      <td>2</td>\n",
       "    </tr>\n",
       "    <tr>\n",
       "      <th>2010-12-09</th>\n",
       "      <td>0.0</td>\n",
       "      <td>443.281183</td>\n",
       "      <td>33.994360</td>\n",
       "      <td>26.306367</td>\n",
       "      <td>19.228582</td>\n",
       "      <td>23.763326</td>\n",
       "      <td>0.000000</td>\n",
       "      <td>35.536370</td>\n",
       "      <td>19.807170</td>\n",
       "      <td>72.109988</td>\n",
       "      <td>371.171195</td>\n",
       "      <td>9</td>\n",
       "      <td>12</td>\n",
       "      <td>2010</td>\n",
       "      <td>49</td>\n",
       "      <td>3</td>\n",
       "    </tr>\n",
       "    <tr>\n",
       "      <th>2010-12-10</th>\n",
       "      <td>0.0</td>\n",
       "      <td>33.392378</td>\n",
       "      <td>443.281183</td>\n",
       "      <td>33.994360</td>\n",
       "      <td>26.306367</td>\n",
       "      <td>19.228582</td>\n",
       "      <td>23.763326</td>\n",
       "      <td>0.000000</td>\n",
       "      <td>35.536370</td>\n",
       "      <td>72.039485</td>\n",
       "      <td>-38.647108</td>\n",
       "      <td>10</td>\n",
       "      <td>12</td>\n",
       "      <td>2010</td>\n",
       "      <td>49</td>\n",
       "      <td>4</td>\n",
       "    </tr>\n",
       "    <tr>\n",
       "      <th>2010-12-11</th>\n",
       "      <td>0.0</td>\n",
       "      <td>0.000000</td>\n",
       "      <td>33.392378</td>\n",
       "      <td>443.281183</td>\n",
       "      <td>33.994360</td>\n",
       "      <td>26.306367</td>\n",
       "      <td>19.228582</td>\n",
       "      <td>23.763326</td>\n",
       "      <td>0.000000</td>\n",
       "      <td>71.600765</td>\n",
       "      <td>-71.600765</td>\n",
       "      <td>11</td>\n",
       "      <td>12</td>\n",
       "      <td>2010</td>\n",
       "      <td>49</td>\n",
       "      <td>5</td>\n",
       "    </tr>\n",
       "    <tr>\n",
       "      <th>2010-12-12</th>\n",
       "      <td>0.0</td>\n",
       "      <td>42.340326</td>\n",
       "      <td>0.000000</td>\n",
       "      <td>33.392378</td>\n",
       "      <td>443.281183</td>\n",
       "      <td>33.994360</td>\n",
       "      <td>26.306367</td>\n",
       "      <td>19.228582</td>\n",
       "      <td>23.763326</td>\n",
       "      <td>74.187596</td>\n",
       "      <td>-31.847270</td>\n",
       "      <td>12</td>\n",
       "      <td>12</td>\n",
       "      <td>2010</td>\n",
       "      <td>49</td>\n",
       "      <td>6</td>\n",
       "    </tr>\n",
       "  </tbody>\n",
       "</table>\n",
       "</div>"
      ],
      "text/plain": [
       "             Holiday     Benefit   Benefit-1   Benefit-2   Benefit-3  \\\n",
       "InvoiceDate                                                            \n",
       "2010-12-08       0.0   33.994360   26.306367   19.228582   23.763326   \n",
       "2010-12-09       0.0  443.281183   33.994360   26.306367   19.228582   \n",
       "2010-12-10       0.0   33.392378  443.281183   33.994360   26.306367   \n",
       "2010-12-11       0.0    0.000000   33.392378  443.281183   33.994360   \n",
       "2010-12-12       0.0   42.340326    0.000000   33.392378  443.281183   \n",
       "\n",
       "             Benefit-4  Benefit-5  Benefit-6  Benefit-7       mean  \\\n",
       "InvoiceDate                                                          \n",
       "2010-12-08    0.000000  35.536370  19.807170  47.686885  20.173440   \n",
       "2010-12-09   23.763326   0.000000  35.536370  19.807170  72.109988   \n",
       "2010-12-10   19.228582  23.763326   0.000000  35.536370  72.039485   \n",
       "2010-12-11   26.306367  19.228582  23.763326   0.000000  71.600765   \n",
       "2010-12-12   33.994360  26.306367  19.228582  23.763326  74.187596   \n",
       "\n",
       "               seasonal  day  month  year  week  weekday  \n",
       "InvoiceDate                                               \n",
       "2010-12-08    13.820920    8     12  2010    49        2  \n",
       "2010-12-09   371.171195    9     12  2010    49        3  \n",
       "2010-12-10   -38.647108   10     12  2010    49        4  \n",
       "2010-12-11   -71.600765   11     12  2010    49        5  \n",
       "2010-12-12   -31.847270   12     12  2010    49        6  "
      ]
     },
     "execution_count": 611,
     "metadata": {},
     "output_type": "execute_result"
    }
   ],
   "source": [
    "Xy_with_lags.head()"
   ]
  },
  {
   "cell_type": "code",
   "execution_count": 639,
   "metadata": {},
   "outputs": [],
   "source": [
    "X = Xy_with_lags[['Holiday',  'Benefit-1', 'Benefit-2', 'Benefit-3',\n",
    "       'Benefit-4', 'Benefit-5', 'Benefit-6', 'Benefit-7', 'mean', 'seasonal',\n",
    "       'day', 'month', 'year', 'week', 'weekday']]\n",
    "y = Xy_with_lags['Benefit']"
   ]
  },
  {
   "cell_type": "code",
   "execution_count": 704,
   "metadata": {},
   "outputs": [],
   "source": [
    "#We do this manually just to track properly what are we doing (so many datasets)\n",
    "\n",
    "X_train = X[X.index < X.index[int(len(X.index)/100*60)]].copy()\n",
    "y_train = y[y.index < y.index[int(len(y.index)/100*60)]].copy()\n",
    "\n",
    "X_test = X[X.index >= X.index[int(len(X.index)/100*60)]].copy()\n",
    "y_test = y[y.index >= y.index[int(len(y.index)/100*60)]].copy()"
   ]
  },
  {
   "cell_type": "code",
   "execution_count": 705,
   "metadata": {},
   "outputs": [],
   "source": [
    "from sklearn.linear_model import LinearRegression\n",
    "reg = LinearRegression()"
   ]
  },
  {
   "cell_type": "code",
   "execution_count": 710,
   "metadata": {},
   "outputs": [
    {
     "data": {
      "text/plain": [
       "LinearRegression(copy_X=True, fit_intercept=True, n_jobs=None,\n",
       "         normalize=False)"
      ]
     },
     "execution_count": 710,
     "metadata": {},
     "output_type": "execute_result"
    }
   ],
   "source": [
    "reg.fit(X_train,y_train)"
   ]
  },
  {
   "cell_type": "code",
   "execution_count": 711,
   "metadata": {},
   "outputs": [],
   "source": [
    "pred_y = reg.predict(X_test)"
   ]
  },
  {
   "cell_type": "code",
   "execution_count": 712,
   "metadata": {},
   "outputs": [
    {
     "name": "stdout",
     "output_type": "stream",
     "text": [
      "MSE:  3.275267755486051e-27\n",
      "RMSE:  5.722995505402789e-14\n"
     ]
    }
   ],
   "source": [
    "print(\"MSE: \" ,mean_squared_error(y_test, pred_y))\n",
    "print(\"RMSE: \", np.sqrt(mean_squared_error(y_test, pred_y)))"
   ]
  },
  {
   "cell_type": "code",
   "execution_count": 722,
   "metadata": {},
   "outputs": [
    {
     "data": {
      "text/plain": [
       "<function matplotlib.pyplot.show(*args, **kw)>"
      ]
     },
     "execution_count": 722,
     "metadata": {},
     "output_type": "execute_result"
    },
    {
     "data": {
      "image/png": "[encoded data removed]",
      "text/plain": [
       "<Figure size 1296x576 with 1 Axes>"
      ]
     },
     "metadata": {
      "needs_background": "light"
     },
     "output_type": "display_data"
    }
   ],
   "source": [
    "plt.plot(y_test)\n",
    "plt.plot(X_test.index, pred_y)\n",
    "\n",
    "plt.show"
   ]
  },
  {
   "cell_type": "markdown",
   "metadata": {},
   "source": [
    "something must be wrong... "
   ]
  },
  {
   "cell_type": "code",
   "execution_count": null,
   "metadata": {},
   "outputs": [],
   "source": []
  }
 ],
 "metadata": {
  "kernelspec": {
   "display_name": "Python 3",
   "language": "python",
   "name": "python3"
  },
  "language_info": {
   "codemirror_mode": {
    "name": "ipython",
    "version": 3
   },
   "file_extension": ".py",
   "mimetype": "text/x-python",
   "name": "python",
   "nbconvert_exporter": "python",
   "pygments_lexer": "ipython3",
   "version": "3.7.1"
  }
 },
 "nbformat": 4,
 "nbformat_minor": 2
}
